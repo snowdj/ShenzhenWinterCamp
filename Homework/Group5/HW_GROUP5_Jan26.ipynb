{
 "cells": [
  {
   "cell_type": "markdown",
   "metadata": {},
   "source": [
    "## Group 5 HW 26 Jan"
   ]
  },
  {
   "cell_type": "markdown",
   "metadata": {},
   "source": [
    "#### Name List\n",
    "* Jiayu ZHOU  \n",
    "* Xiaochen YAN  \n",
    "* Qinxuan ZHANG  \n",
    "* Chang WANG  \n",
    "* Shaobo ZHAO"
   ]
  },
  {
   "cell_type": "markdown",
   "metadata": {},
   "source": [
    "## Museum Assignment\n",
    "Visit the exhibitions on the third floor of the Shenzhen Museum, and answer the following questions:\n",
    "\n",
    "1. The earliest development in the Special Economic Zone is in\n",
    "A. Luohu,    B. Shekou,    C. Xili,    D. Futian\n",
    "\n",
    "2. Which of the following is not one of the early market-oriented reforms in Shenzhen?\n",
    "A. Labor market reform\n",
    "B. Stock system reform of state-owned enterprise\n",
    "C. Public auctions of land use right\n",
    "D. Reform of rural collective ownership system\n",
    "\n",
    "3. In November 1977, party official reported to DENG, Xiaoping about the stowaways fleeing from Shenzhen to Hong Kong. What’s DENG, Xiaoping’s comment on the issue?"
   ]
  },
  {
   "cell_type": "markdown",
   "metadata": {},
   "source": [
    "1.B"
   ]
  },
  {
   "cell_type": "markdown",
   "metadata": {},
   "source": [
    "2.D"
   ]
  },
  {
   "cell_type": "markdown",
   "metadata": {},
   "source": [
    "3.He commented, \"This is the problem of our policy. The army can't solve it.\""
   ]
  },
  {
   "cell_type": "markdown",
   "metadata": {},
   "source": [
    "## We have handed in our additional excercise homework yesterday."
   ]
  }
 ],
 "metadata": {
  "kernelspec": {
   "display_name": "Python 3",
   "language": "python",
   "name": "python3"
  },
  "language_info": {
   "codemirror_mode": {
    "name": "ipython",
    "version": 3
   },
   "file_extension": ".py",
   "mimetype": "text/x-python",
   "name": "python",
   "nbconvert_exporter": "python",
   "pygments_lexer": "ipython3",
   "version": "3.6.1"
  }
 },
 "nbformat": 4,
 "nbformat_minor": 2
}
