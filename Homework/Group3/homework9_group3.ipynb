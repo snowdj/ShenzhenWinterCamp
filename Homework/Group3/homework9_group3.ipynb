{
 "cells": [
  {
   "cell_type": "markdown",
   "metadata": {},
   "source": [
    "# Homework9 by group3"
   ]
  },
  {
   "cell_type": "markdown",
   "metadata": {},
   "source": [
    "Authors:Kaiyang LIN,Tianhao MOU,Lin LIU,Yunxia SHI,Guangyi NING"
   ]
  },
  {
   "cell_type": "code",
   "execution_count": 54,
   "metadata": {
    "collapsed": true
   },
   "outputs": [],
   "source": [
    "import pandas as pd\n",
    "import numpy as np\n",
    "import matplotlib.pyplot as plt\n",
    "import statsmodels.api as sm"
   ]
  },
  {
   "cell_type": "markdown",
   "metadata": {},
   "source": [
    "## Exercise 1"
   ]
  },
  {
   "cell_type": "code",
   "execution_count": 3,
   "metadata": {
    "collapsed": true
   },
   "outputs": [],
   "source": [
    "er = pd.read_csv('https://github.com/QuantEcon/ShenzhenWinterCamp/raw/master/Jiao%20Shi/ExR.csv')\n",
    "erf = pd.read_csv('https://github.com/QuantEcon/ShenzhenWinterCamp/raw/master/Jiao%20Shi/ER_predict.csv')\n"
   ]
  },
  {
   "cell_type": "code",
   "execution_count": 4,
   "metadata": {
    "collapsed": true
   },
   "outputs": [],
   "source": [
    "# compute the change in the exchange rate: take log and first difference to compute depreciation (dep)\n",
    "erf['lner'] = np.log(erf[['CNYUSD']])\n",
    "erf['dep'] = 100*erf['lner'].diff(periods = 1)"
   ]
  },
  {
   "cell_type": "code",
   "execution_count": 5,
   "metadata": {
    "collapsed": true
   },
   "outputs": [],
   "source": [
    "# Create a new column to reindex depreciation - why?\n",
    "erf['dep_1'] = 0\n",
    "size_sample = 149\n",
    "\n",
    "for i in range(size_sample):\n",
    "    erf.loc[i,'dep_1'] = erf.loc[i+1,'dep']\n",
    "    \n",
    "erf.loc[size_sample,'dep_1'] = erf.loc[0,'dep']"
   ]
  },
  {
   "cell_type": "code",
   "execution_count": 6,
   "metadata": {
    "collapsed": true
   },
   "outputs": [],
   "source": [
    "erf['int_diff'] = erf['CHN_IBR'] - erf['US_FFR']"
   ]
  },
  {
   "cell_type": "code",
   "execution_count": 7,
   "metadata": {},
   "outputs": [
    {
     "name": "stdout",
     "output_type": "stream",
     "text": [
      "                            OLS Regression Results                            \n",
      "==============================================================================\n",
      "Dep. Variable:                  dep_1   R-squared:                       0.033\n",
      "Model:                            OLS   Adj. R-squared:                  0.026\n",
      "Method:                 Least Squares   F-statistic:                     4.998\n",
      "Date:                Fri, 02 Feb 2018   Prob (F-statistic):             0.0269\n",
      "Time:                        15:38:23   Log-Likelihood:                -148.45\n",
      "No. Observations:                 149   AIC:                             300.9\n",
      "Df Residuals:                     147   BIC:                             306.9\n",
      "Df Model:                           1                                         \n",
      "Covariance Type:            nonrobust                                         \n",
      "==============================================================================\n",
      "                 coef    std err          t      P>|t|      [0.025      0.975]\n",
      "------------------------------------------------------------------------------\n",
      "const         -0.1985      0.059     -3.355      0.001      -0.315      -0.082\n",
      "int_diff       0.0535      0.024      2.236      0.027       0.006       0.101\n",
      "==============================================================================\n",
      "Omnibus:                      103.849   Durbin-Watson:                   1.493\n",
      "Prob(Omnibus):                  0.000   Jarque-Bera (JB):             1429.264\n",
      "Skew:                           2.201   Prob(JB):                    4.36e-311\n",
      "Kurtosis:                      17.520   Cond. No.                         2.79\n",
      "==============================================================================\n",
      "\n",
      "Warnings:\n",
      "[1] Standard Errors assume that the covariance matrix of the errors is correctly specified.\n"
     ]
    }
   ],
   "source": [
    "erf['const'] = 1 # create column of constant\n",
    "\n",
    "reg_int = sm.OLS(endog=erf['dep_1'], exog=erf[['const', 'int_diff']], missing='drop')\n",
    "results = reg_int.fit()\n",
    "print(results.summary())"
   ]
  },
  {
   "cell_type": "code",
   "execution_count": 35,
   "metadata": {
    "scrolled": true
   },
   "outputs": [
    {
     "name": "stdout",
     "output_type": "stream",
     "text": [
      "0.61797752809\n"
     ]
    }
   ],
   "source": [
    "# Now we do it recursively\n",
    "size_sample = 149\n",
    "size_subsample = 60\n",
    "\n",
    "# How many regressions can we run? How many forecast errors can we compute?\n",
    "fcst_error_int = np.zeros(size_sample - size_subsample)\n",
    "fcst_int = np.zeros(size_sample - size_subsample)\n",
    "dep_1_int = np.zeros(size_sample - size_subsample)\n",
    "for i in range (size_sample - size_subsample):\n",
    "    reg_intsub = sm.OLS(endog=erf.loc[i:size_subsample-1+i,'dep_1'], exog=erf.loc[erf.index[i:size_subsample+i],['const', 'int_diff']], missing='drop')\n",
    "    results_sub = reg_intsub.fit()\n",
    "    fcst_int[i] = results_sub.predict(exog = [1, erf.loc[size_subsample+i,'int_diff']])\n",
    "    dep_1_int[i]=erf.loc[size_subsample+i, 'dep_1']\n",
    "    error = results_sub.predict(exog = [1, erf.loc[size_subsample+i,'int_diff']]) - erf.loc[size_subsample+i, 'dep_1']\n",
    "    fcst_error_int[i] = error\n",
    "    \n",
    "#Use the percentage of correct directional forecast as the criterion\n",
    "fcst_int_direction=np.where(fcst_int>=0,1,0)\n",
    "dep_1_int_direction=np.where(dep_1_int>=0,1,0)\n",
    "percentage_of_correct_directional_forecast_int=np.mean(fcst_int_direction==dep_1_int_direction)\n",
    "print(percentage_of_correct_directional_forecast_int)"
   ]
  },
  {
   "cell_type": "code",
   "execution_count": 34,
   "metadata": {},
   "outputs": [
    {
     "name": "stdout",
     "output_type": "stream",
     "text": [
      "0.640449438202\n"
     ]
    }
   ],
   "source": [
    "# Taylor-Rule model\n",
    "\n",
    "# inflation differential\n",
    "erf['pi_diff'] = erf['CHN CPI inflation'] - erf['USA CPI inflation']\n",
    "\n",
    "fcst_tr = np.zeros(size_sample - size_subsample)\n",
    "fcst_error_tr = np.zeros(size_sample - size_subsample)\n",
    "dep_1_tr = np.zeros(size_sample - size_subsample)\n",
    "for i in range (size_sample - size_subsample):\n",
    "    # Create a column to store the output gap difference and update it in each loop\n",
    "    y_chn = erf['CHN PMI'] - np.mean(erf.loc[i:size_subsample-1+i, 'CHN PMI'])\n",
    "    y_us = erf['USA PMI'] - np.mean(erf.loc[i:size_subsample-1+i, 'USA PMI'])\n",
    "    erf['y_diff'] = y_chn - y_us\n",
    "    \n",
    "    reg_trsub = sm.OLS(endog=erf.loc[i:size_subsample-1+i,'dep_1'], exog=erf.loc[erf.index[i:size_subsample+i],['const', 'pi_diff','y_diff']], missing='drop')\n",
    "    results_sub = reg_trsub.fit()\n",
    "    \n",
    "    # error = results_sub.predict(exog = [1, erf.loc[size_subsample+i,'int_diff']]) - erf.loc[size_subsample+i, 'dep_1']\n",
    "    \n",
    "    fcst_tr[i] = results_sub.predict(exog = [erf.loc[size_subsample+i,['const', 'pi_diff','y_diff']]])\n",
    "    dep_1_tr[i]=erf.loc[size_subsample+i, 'dep_1']\n",
    "    error = results_sub.predict(exog = [erf.loc[size_subsample+i,['const', 'pi_diff','y_diff']]]) - erf.loc[size_subsample+i, 'dep_1']\n",
    "    fcst_error_tr[i] = error\n",
    "\n",
    "#Use the percentage of correct directional forecast as the criterion\n",
    "fcst_tr_direction=np.where(fcst_tr>=0,1,0)\n",
    "dep_1_tr_direction=np.where(dep_1_tr>=0,1,0)\n",
    "percentage_of_correct_directional_forecast_tr=np.mean(fcst_tr_direction==dep_1_tr_direction)\n",
    "print(percentage_of_correct_directional_forecast_tr)"
   ]
  },
  {
   "cell_type": "code",
   "execution_count": 32,
   "metadata": {},
   "outputs": [
    {
     "data": {
      "text/plain": [
       "array([  5.22617214e-01,  -1.61938469e+00,  -1.53824357e-01,\n",
       "        -2.18448505e-01,  -8.04582163e-01,  -5.08637316e-01,\n",
       "        -2.11177277e-01,  -2.86332402e-01,  -8.79335292e-01,\n",
       "        -2.23360512e-01,  -1.99134064e-01,  -4.24287169e-01,\n",
       "        -8.96279839e-01,  -4.99153419e-01,  -4.98494509e-01,\n",
       "         3.93008437e-01,  -7.47882782e-01,   1.68088587e-01,\n",
       "        -3.11027434e-01,   3.81370077e-02,  -2.48150927e-01,\n",
       "         9.00578457e-01,  -1.67451304e-01,   1.12191781e-01,\n",
       "         2.03519858e-01,  -6.14855883e-02,  -6.45510579e-01,\n",
       "        -1.74750231e-01,  -5.88483241e-02,  -9.55033897e-02,\n",
       "        -2.54829823e-02,  -1.43462900e-01,  -7.70238481e-01,\n",
       "        -6.64497139e-01,  -1.45651101e-02,   1.61845033e-03,\n",
       "        -1.27938348e-01,  -3.71786870e-01,  -8.95000263e-02,\n",
       "        -1.62932826e-01,  -5.82205187e-01,   1.32766228e-01,\n",
       "         2.68272097e-01,   5.00265841e-01,   9.58562555e-02,\n",
       "         1.86574785e-01,  -2.71053460e-01,   2.38630666e-01,\n",
       "        -4.54095790e-02,  -1.98097035e-01,  -1.04076896e-01,\n",
       "        -1.88915907e-01,  -2.52989077e-01,   2.93733893e-01,\n",
       "         1.70947170e-01,  -8.62510937e-02,  -4.65082962e-01,\n",
       "         9.64580360e-02,  -9.80937201e-02,   5.88677781e-02,\n",
       "         4.35202407e+00,  -4.39195724e-01,  -1.85668933e-01,\n",
       "         7.32799438e-01,   1.51130124e+00,   8.89221816e-01,\n",
       "        -9.77338053e-02,  -1.29168975e+00,  -3.56034400e-02,\n",
       "         1.84237334e+00,   7.90302519e-01,   2.99647123e-01,\n",
       "         5.95119393e-01,  -1.94485647e-01,   1.28406231e+00,\n",
       "         1.79337583e+00,   7.30643103e-01,  -1.13369051e+00,\n",
       "         2.35914423e-01,   3.52831363e-01,  -8.99045912e-02,\n",
       "        -4.33253564e-01,  -1.30375737e+00,  -6.82829051e-01,\n",
       "        -1.91013587e+00,   5.42383430e-01,   4.21794743e-02,\n",
       "        -5.48211384e-01,  -1.05347461e+00])"
      ]
     },
     "execution_count": 32,
     "metadata": {},
     "output_type": "execute_result"
    }
   ],
   "source": [
    "dep_1_tr"
   ]
  },
  {
   "cell_type": "code",
   "execution_count": 43,
   "metadata": {},
   "outputs": [
    {
     "name": "stdout",
     "output_type": "stream",
     "text": [
      "0.61797752809\n"
     ]
    }
   ],
   "source": [
    "#the random walk model\n",
    "fcst_rw = erf.loc[size_subsample: size_sample-1, 'dep']\n",
    "fcst_rw_direction=np.where(fcst_rw>=0,1,0)\n",
    "percentage_of_correct_directional_forecast_rw=np.mean(fcst_rw_direction==dep_1_tr_direction)\n",
    "print(percentage_of_correct_directional_forecast_rw)"
   ]
  },
  {
   "cell_type": "markdown",
   "metadata": {},
   "source": [
    "## Exercise 2"
   ]
  },
  {
   "cell_type": "code",
   "execution_count": 47,
   "metadata": {},
   "outputs": [
    {
     "name": "stdout",
     "output_type": "stream",
     "text": [
      "                            OLS Regression Results                            \n",
      "==============================================================================\n",
      "Dep. Variable:                  dep_1   R-squared:                       0.169\n",
      "Model:                            OLS   Adj. R-squared:                  0.151\n",
      "Method:                 Least Squares   F-statistic:                     9.796\n",
      "Date:                Fri, 02 Feb 2018   Prob (F-statistic):           6.33e-06\n",
      "Time:                        16:34:55   Log-Likelihood:                -137.20\n",
      "No. Observations:                 149   AIC:                             282.4\n",
      "Df Residuals:                     145   BIC:                             294.4\n",
      "Df Model:                           3                                         \n",
      "Covariance Type:            nonrobust                                         \n",
      "==============================================================================\n",
      "                 coef    std err          t      P>|t|      [0.025      0.975]\n",
      "------------------------------------------------------------------------------\n",
      "const         -2.1785      0.420     -5.193      0.000      -3.008      -1.349\n",
      "pi_diff       -0.0857      0.032     -2.715      0.007      -0.148      -0.023\n",
      "y_diff         0.0164      0.012      1.353      0.178      -0.008       0.040\n",
      "RMB_REER       0.0196      0.004      4.988      0.000       0.012       0.027\n",
      "==============================================================================\n",
      "Omnibus:                       90.657   Durbin-Watson:                   1.739\n",
      "Prob(Omnibus):                  0.000   Jarque-Bera (JB):             1315.934\n",
      "Skew:                           1.781   Prob(JB):                    1.77e-286\n",
      "Kurtosis:                      17.116   Cond. No.                         895.\n",
      "==============================================================================\n",
      "\n",
      "Warnings:\n",
      "[1] Standard Errors assume that the covariance matrix of the errors is correctly specified.\n"
     ]
    }
   ],
   "source": [
    "#Taylor Rule model with REER\n",
    "erf['pi_diff'] = erf['CHN CPI inflation'] - erf['USA CPI inflation']\n",
    "y_chn = erf['CHN PMI'] - np.mean(erf['CHN PMI'])\n",
    "y_us = erf['USA PMI'] - np.mean(erf['USA PMI'])\n",
    "erf['y_diff'] = y_chn - y_us\n",
    "reg_tr_reer = sm.OLS(endog=erf['dep_1'], exog=erf[['const', 'pi_diff','y_diff','RMB_REER']], missing='drop')\n",
    "results = reg_tr_reer.fit()\n",
    "print(results.summary())"
   ]
  },
  {
   "cell_type": "markdown",
   "metadata": {},
   "source": [
    "### The sign of the coefficient of REER is positive. And it is significant. The sign is consistent with our intuition."
   ]
  },
  {
   "cell_type": "code",
   "execution_count": 53,
   "metadata": {},
   "outputs": [
    {
     "name": "stdout",
     "output_type": "stream",
     "text": [
      "0.7605718598\n"
     ]
    }
   ],
   "source": [
    "size_sample = 149\n",
    "size_subsample = 60\n",
    "\n",
    "fcst_tr = np.zeros(size_sample - size_subsample)\n",
    "fcst_error_tr = np.zeros(size_sample - size_subsample)\n",
    "dep_1_tr = np.zeros(size_sample - size_subsample)\n",
    "for i in range (size_sample - size_subsample):\n",
    "    # Create a column to store the output gap difference and update it in each loop\n",
    "    y_chn = erf['CHN PMI'] - np.mean(erf.loc[i:size_subsample-1+i, 'CHN PMI'])\n",
    "    y_us = erf['USA PMI'] - np.mean(erf.loc[i:size_subsample-1+i, 'USA PMI'])\n",
    "    erf['y_diff'] = y_chn - y_us\n",
    "    \n",
    "    reg_trsub = sm.OLS(endog=erf.loc[i:size_subsample-1+i,'dep_1'], exog=erf.loc[erf.index[i:size_subsample+i],['const', 'pi_diff','y_diff','RMB_REER']], missing='drop')\n",
    "    results_sub = reg_trsub.fit()\n",
    "    \n",
    "    # error = results_sub.predict(exog = [1, erf.loc[size_subsample+i,'int_diff']]) - erf.loc[size_subsample+i, 'dep_1']\n",
    "    \n",
    "    fcst_tr[i] = results_sub.predict(exog = [erf.loc[size_subsample+i,['const', 'pi_diff','y_diff','RMB_REER']]])\n",
    "    dep_1_tr[i]=erf.loc[size_subsample+i, 'dep_1']\n",
    "    error = results_sub.predict(exog = [erf.loc[size_subsample+i,['const', 'pi_diff','y_diff','RMB_REER']]]) - erf.loc[size_subsample+i, 'dep_1']\n",
    "    fcst_error_tr[i] = error\n",
    "\n",
    "rmse_tr_reer = np.sqrt(np.mean(fcst_error_tr**2))\n",
    "print(rmse_tr_reer) "
   ]
  },
  {
   "cell_type": "markdown",
   "metadata": {},
   "source": [
    "### The model produce smaller RMSE than the original Taylor Rule model."
   ]
  },
  {
   "cell_type": "code",
   "execution_count": null,
   "metadata": {
    "collapsed": true
   },
   "outputs": [],
   "source": []
  }
 ],
 "metadata": {
  "kernelspec": {
   "display_name": "Python 3",
   "language": "python",
   "name": "python3"
  },
  "language_info": {
   "codemirror_mode": {
    "name": "ipython",
    "version": 3
   },
   "file_extension": ".py",
   "mimetype": "text/x-python",
   "name": "python",
   "nbconvert_exporter": "python",
   "pygments_lexer": "ipython3",
   "version": "3.6.1"
  }
 },
 "nbformat": 4,
 "nbformat_minor": 2
}
