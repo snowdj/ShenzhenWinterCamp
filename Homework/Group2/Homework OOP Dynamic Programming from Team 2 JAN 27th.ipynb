{
 "cells": [
  {
   "cell_type": "markdown",
   "metadata": {},
   "source": [
    "## Homework of The OOP and Dynamic Programming##"
   ]
  },
  {
   "cell_type": "markdown",
   "metadata": {},
   "source": [
    "** Authors: Liling HUANG, Zhangjie LV, Shurui LIU, Yuhong Zhu, Kaisheng LIAN **"
   ]
  },
  {
   "cell_type": "markdown",
   "metadata": {},
   "source": [
    "** Jan 27th 2018 **"
   ]
  },
  {
   "cell_type": "markdown",
   "metadata": {},
   "source": [
    "** Part one The OOP **"
   ]
  },
  {
   "cell_type": "markdown",
   "metadata": {},
   "source": [
    "####  Exercise 1 ####"
   ]
  },
  {
   "cell_type": "code",
   "execution_count": 1,
   "metadata": {
    "collapsed": true
   },
   "outputs": [],
   "source": [
    "class Tax:\n",
    "    def __init__(self,r,c):   ## r - revenue, c - costs\n",
    "        self.r, self.c = r, c\n",
    "        self.temp = 0\n",
    "    \n",
    "    def compute_income(self):\n",
    "        self.newincome = self.r - self.c\n",
    "        return self.newincome\n",
    "    \n",
    "    def brackets_list(self,brackets):\n",
    "        self.brackets = brackets\n",
    "        return self.brackets\n",
    "    \n",
    "    def percent_list(self,percentlist):\n",
    "        self.percent = percentlist\n",
    "        return self.percent\n",
    "    \n",
    "    def compute_tax(self):\n",
    "        if self.newincome < self.brackets[0]:    ### 0 ~ 1 million\n",
    "            self.temp = self.newincome * self.percent[0]\n",
    "        elif self.brackets[0] < self.newincome and self.newincome< self.brackets[1]:   ### 1 ~ 2 millions\n",
    "            self.temp = 1 * self.percent[0] + (self.newincome - 1) * self.percent[1]\n",
    "        elif self.brackets[1] < self.newincome and self.newincome< self.brackets[2]:  ### 2 ~ 5 millions\n",
    "            self.temp = 1 * self.percent[0] + 1 * self.percent[1] + (self.newincome - 2) * self.percent[2]\n",
    "        elif self.brackets[2] < self.newincome:   ### >= 5 millions\n",
    "            self.temp = 1 * self.percent[0] + 1 * self.percent[1] + 3 * self.percent[2] + (self.newincome - 5) * self.percent[3]\n",
    "        \n",
    "        return self.temp\n",
    "    \n",
    "    def compute_average_tax_rate(self):\n",
    "        average_tax_rate = self.temp / self.newincome\n",
    "        return average_tax_rate"
   ]
  },
  {
   "cell_type": "code",
   "execution_count": 2,
   "metadata": {
    "collapsed": false
   },
   "outputs": [
    {
     "name": "stdout",
     "output_type": "stream",
     "text": [
      "Income: 10 Million\n",
      "Tax: 2.1 Million\n",
      "Rate: 21.000000000000004 Percent\n",
      "Income: 3 Million\n",
      "Tax: 0.45 Million\n",
      "Rate: 15.0 Percent\n"
     ]
    }
   ],
   "source": [
    "brackets = [1,2,5]\n",
    "percentlist = [0.10,0.15,0.20,0.25]\n",
    "type(brackets)\n",
    "Firm_1 = Tax(105,95)\n",
    "Firm_1.brackets_list(brackets)\n",
    "Firm_1.percent_list(percentlist)\n",
    "print('Income:', Firm_1.compute_income(), 'Million')\n",
    "print('Tax:', Firm_1.compute_tax(), 'Million')\n",
    "print('Rate:', Firm_1.compute_average_tax_rate()*100, 'Percent')\n",
    "\n",
    "Firm_2 = Tax(13,10)\n",
    "brackets = [1,2,5]\n",
    "percentlist = [0.10,0.15,0.20,0.25]\n",
    "Firm_2.brackets_list(brackets)\n",
    "Firm_2.percent_list(percentlist)\n",
    "print('Income:', Firm_2.compute_income(), 'Million')\n",
    "print('Tax:', Firm_2.compute_tax(), 'Million')\n",
    "print('Rate:', Firm_2.compute_average_tax_rate()*100, 'Percent')"
   ]
  },
  {
   "cell_type": "code",
   "execution_count": 5,
   "metadata": {
    "collapsed": true
   },
   "outputs": [],
   "source": [
    "#Solution 2\n",
    "import numpy as np\n",
    "class Tax:     \n",
    "    def __init__(self, r,c):\n",
    "        self.revenue= r\n",
    "        self.costs=c\n",
    "        self.income=r-c\n",
    "        \n",
    "    def set_revenue(self, r):\n",
    "        self.revenue = r\n",
    "        \n",
    "    def set_costs(self,c):\n",
    "        self.costs = c\n",
    "        \n",
    "    def compute_income(self):\n",
    "        return self.revenue- self.costs\n",
    "    \n",
    "    def set_brackets(self, b):\n",
    "        self.brackets = b\n",
    "    \n",
    "    def set_percent(self, p):\n",
    "        self.percent = p\n",
    "        \n",
    "    def compute_tax(self):\n",
    "        if len(self.brackets)==len(self.percent):\n",
    "            c=self.brackets[1:]\n",
    "            c.append(-1)\n",
    "            d=np.asarray(self.brackets).searchsorted(self.income)-1\n",
    "            c[d]=self.income\n",
    "            z=(np.asarray(c)-np.asarray(self.brackets))*self.percent\n",
    "            self.tax=sum(z[:d+1])  # the first to (d+1)th\n",
    "            return self.tax         \n",
    "        else:\n",
    "            return 'Please enter the right tax backets beginning with 0.'\n",
    "        \n",
    "    def compute_average_tax_rate(self):\n",
    "        self.average_tax_rate = self.tax / self.income\n",
    "        return self.average_tax_rate"
   ]
  },
  {
   "cell_type": "code",
   "execution_count": 6,
   "metadata": {
    "collapsed": false
   },
   "outputs": [
    {
     "name": "stdout",
     "output_type": "stream",
     "text": [
      "Income: 10 Million\n",
      "Tax: 2.1 Million\n",
      "Rate: 21.0 Percent\n"
     ]
    }
   ],
   "source": [
    "bracket_list = [0,1,2,5]\n",
    "percent_list = [0.1,0.15,0.2,0.25]\n",
    "Firm_1 = Tax(105,95)\n",
    "Firm_1.set_brackets(bracket_list)\n",
    "Firm_1.set_percent(percent_list)\n",
    "print('Income:', Firm_1.compute_income(), 'Million')\n",
    "print('Tax:', Firm_1.compute_tax(), 'Million')\n",
    "print('Rate:', Firm_1.compute_average_tax_rate()*100, 'Percent')"
   ]
  },
  {
   "cell_type": "markdown",
   "metadata": {},
   "source": [
    "** Exercise 2 **"
   ]
  },
  {
   "cell_type": "code",
   "execution_count": 9,
   "metadata": {
    "collapsed": true
   },
   "outputs": [],
   "source": [
    "class Roulette():\n",
    "    \n",
    "    def __init__(self, stash):\n",
    "        self.money_hold = stash\n",
    "        self.house_earns = 0\n",
    "        \n",
    "    def add_money(sef, money_add):\n",
    "        self.money_add = money_add\n",
    "        self.money_hold += money_add\n",
    "        \n",
    "    def check_stash(self):\n",
    "        return self.money_hold\n",
    "    \n",
    "    def roll(self):\n",
    "        self.num_rolled = np.random.randint(1,37)\n",
    "        R = [2, 4, 6, 8, 10,11,13,15,17,20,22,24,26,28,29,31,33,35]\n",
    "        B = [1, 3, 5, 7, 9, 12,14,16,18,19,21,23,25,27,30,32,34,36]\n",
    "        self.bet_style = input(\"If straight up, just input the number between 0 and 36. O for odd,E for even. R for red, B for black. Choose bet type:\")\n",
    "        self.bet_amount = input('Choose bet amount:')\n",
    "        if int(self.bet_amount) > self.money_hold:\n",
    "            print('YOU CANNOT DEPLOY STASH THAT IS MORE THAN THE MONEY YOU HOLD!!')\n",
    "        else:\n",
    "            if (self.bet_style is 'E') and (self.num_rolled % 2 == 0):\n",
    "                self.money_hold += int(self.bet_amount)\n",
    "                self.house_earns -= int(self.bet_amount)\n",
    "                print(\"YOU rolled {1:.0f}YOU WIN!! :-),current stash is:{0:.2f}\".format(self.money_hold,self.num_rolled))\n",
    "                \n",
    "            elif (self.bet_style is 'O') and (self.num_rolled % 2 != 0):\n",
    "                self.money_hold += int(self.bet_amount) \n",
    "                self.house_earns -= int(self.bet_amount)\n",
    "                print(\"YOU rolled {1:.0f}YOU WIN!! :-),current stash is:{0:.2f}\".format(self.money_hold,self.num_rolled))\n",
    "                \n",
    "            elif (self.bet_style is 'R') and (self.num_rolled in R):\n",
    "                self.money_hold += int(self.bet_amount)\n",
    "                self.house_earns -= int(self.bet_amount)\n",
    "                print(\"YOU rolled {1:.0f}YOU WIN!! :-),current stash is:{0:.2f}\".format(self.money_hold,self.num_rolled))\n",
    "        \n",
    "            elif (self.bet_style is 'B') and (self.num_rolled in B):\n",
    "                self.money_hold += int(self.bet_amount)\n",
    "                self.house_earns -= int(self.bet_amount)\n",
    "                print(\"YOU rolled {1:.0f}YOU WIN!! :-),current stash is:{0:.2f}\".format(self.money_hold,self.num_rolled))\n",
    "                \n",
    "            elif self.bet_style == self.num_rolled:\n",
    "                self.money_hold += self.bet_amount*35\n",
    "                self.house_earns -= int(self.bet_amount)*35\n",
    "                print(\"YOU rolled {1:.0f}YOU WIN!! :-),current stash is:{0:.2f}\".format(self.money_hold,self.num_rolled))\n",
    "                \n",
    "            else:\n",
    "                self.money_hold -= int(self.bet_amount)\n",
    "                self.house_earns += int(self.bet_amount)\n",
    "                print(\"YOU rolled {1:.0f} YOU LOSE =(,current stash is:{0:.2f}\".format(self.money_hold,self.num_rolled))\n",
    "                \n",
    "            \n",
    "    def check_house_earns(self):\n",
    "        return self.house_earns"
   ]
  },
  {
   "cell_type": "code",
   "execution_count": 10,
   "metadata": {
    "collapsed": false
   },
   "outputs": [
    {
     "name": "stdout",
     "output_type": "stream",
     "text": [
      "If straight up, just input the number between 0 and 36. O for odd,E for even. R for red, B for black. Choose bet type:E\n",
      "Choose bet amount:100\n",
      "YOU rolled 32YOU WIN!! :-),current stash is:300.00\n"
     ]
    }
   ],
   "source": [
    "Player1 = Roulette(200)\n",
    "Player1.roll()"
   ]
  },
  {
   "cell_type": "markdown",
   "metadata": {},
   "source": [
    "** Exercise 3 **"
   ]
  },
  {
   "cell_type": "code",
   "execution_count": 11,
   "metadata": {
    "collapsed": false
   },
   "outputs": [
    {
     "name": "stdout",
     "output_type": "stream",
     "text": [
      "[1, 1, 1, 1, 0, 0, 0, 1, 1, 1, 0, 1, 1, 0, 0, 0, 1, 1, 1, 1, 1, 1, 1, 0, 0, 0, 0, 1, 1, 1, 0, 1, 0, 0, 1, 0, 1, 1, 1, 1, 1, 0, 1, 0, 0, 0, 0, 0, 1, 1, 1, 0, 1, 1, 1, 0, 1, 1, 0, 1, 0, 1, 0, 0, 1, 0, 1, 1, 1, 1, 0, 1, 1, 1, 1, 0, 1, 1, 1, 1, 1, 1, 1, 1, 0, 0, 1, 1, 1, 1, 1, 1, 0, 0, 1, 0, 1, 1, 1, 1]\n",
      "0.76\n"
     ]
    }
   ],
   "source": [
    "import numpy as np\n",
    "\n",
    "class ecdf:\n",
    "    def __init__(self,x,n):\n",
    "        self.x, self.n= x,n \n",
    "        self.Fn_x = 0\n",
    "        \n",
    "    def _call_(self):\n",
    "        path = []\n",
    "        X = np.random.randn(self.n)\n",
    "        k1 = 1\n",
    "        k2 = 0\n",
    "        for i in range(len(X)):\n",
    "            if X[i] <= self.x:\n",
    "                self.Fn_x += 1\n",
    "                path.append(k1)\n",
    "            else:\n",
    "                self.Fn_x += 0\n",
    "                path.append(k2)\n",
    "        return path\n",
    "    \n",
    "    def observations(self):\n",
    "        return sum(self._call_()) / self.n\n",
    "\n",
    "        ## a test\n",
    "f1=ecdf(0.5,100)\n",
    "print(f1._call_())\n",
    "print(f1.observations())\n",
    "    "
   ]
  },
  {
   "cell_type": "markdown",
   "metadata": {},
   "source": [
    "** Exercise 4 **"
   ]
  },
  {
   "cell_type": "code",
   "execution_count": 12,
   "metadata": {
    "collapsed": false
   },
   "outputs": [
    {
     "name": "stdout",
     "output_type": "stream",
     "text": [
      "17.0\n",
      "14.0\n"
     ]
    }
   ],
   "source": [
    "#EX4\n",
    "import numpy  as np\n",
    "class Polynomial:\n",
    "    def __init__(self,a,x):\n",
    "        self.a=a\n",
    "        self.x=x\n",
    "    def p_x(self):\n",
    "        t=np.ones(len(self.a))*self.x\n",
    "        t[0]=1\n",
    "        t=t.cumprod()\n",
    "        self.t=self.a*t\n",
    "        return self.t.sum()\n",
    "    def p_diff_x(self):\n",
    "        self.a=self.a[1:]\n",
    "        t=np.array(range(len(self.a)))+np.ones(len(self.a))\n",
    "        self.t=self.a*self.x**(t-1)*t\n",
    "        return self.t.sum()\n",
    "    \n",
    "\n",
    "\n",
    "p1=Polynomial(np.array((1,2,3)),2)\n",
    "print(p1.p_x())\n",
    "print(p1.p_diff_x())"
   ]
  },
  {
   "cell_type": "code",
   "execution_count": 13,
   "metadata": {
    "collapsed": false
   },
   "outputs": [
    {
     "data": {
      "text/plain": [
       "[-2.8996170369404028]"
      ]
     },
     "execution_count": 13,
     "metadata": {},
     "output_type": "execute_result"
    }
   ],
   "source": [
    "# Loop X  is a rv.\n",
    "import numpy as np\n",
    "class Polynomial:\n",
    "    \n",
    "    def __init__(self,n,coeff):\n",
    "        self.n, self.coeff = n, coeff \n",
    "        self.x = np.random.randn(100)\n",
    "    \n",
    "    def h(self):\n",
    "        path = []\n",
    "        for i in range(self.n):\n",
    "            list_1 = np.zeros(len(self.coeff))\n",
    "            list_1[:] = self.x[i]\n",
    "            list_1[0] = 1\n",
    "            list_2 = np.cumprod(list_1)\n",
    "            path.append(np.dot(list_2, self.coeff))\n",
    "        return path\n",
    "    \n",
    "    def update(self):\n",
    "         path2=[]\n",
    "         for i in range(self.n-1):\n",
    "            list_1 = np.zeros(len(self.coeff)-1)\n",
    "            list_1[:] = self.x[i]\n",
    "            list_1[0] = 1\n",
    "            list_2 = np.cumprod(list_1)\n",
    "            path2.append(np.dot(list_2, self.coeff[1:])) \n",
    "            return path2\n",
    "a=Polynomial(3,(1,2,3))\n",
    "a.update()"
   ]
  },
  {
   "cell_type": "markdown",
   "metadata": {},
   "source": [
    "**PART 2 Dynamic Programming **"
   ]
  },
  {
   "cell_type": "markdown",
   "metadata": {},
   "source": [
    "** Exercise 1**"
   ]
  },
  {
   "cell_type": "code",
   "execution_count": 14,
   "metadata": {
    "collapsed": false
   },
   "outputs": [
    {
     "name": "stdout",
     "output_type": "stream",
     "text": [
      "486\n"
     ]
    },
    {
     "data": {
      "image/png": "[encoded data removed]",
      "text/plain": [
       "<matplotlib.figure.Figure at 0x5dd8630>"
      ]
     },
     "metadata": {},
     "output_type": "display_data"
    }
   ],
   "source": [
    "import numpy as np\n",
    "import matplotlib.pyplot as plt\n",
    "import time\n",
    "\n",
    "beta = 0.95 \n",
    "num_points = 100 \n",
    "tol = 1e-10\n",
    "\n",
    "w_vec = np.reshape(np.linspace(0.1,100,num_points),num_points) \n",
    "wprime = w_vec-0.005 \n",
    "value_old_l = np.ones(num_points)\n",
    "value_old_h = np.ones(num_points)\n",
    "value_new_l = np.zeros(num_points)\n",
    "value_new_h = np.zeros(num_points)\n",
    "policy = np.zeros(num_points) \n",
    "ctr = 0\n",
    "\n",
    "while(np.max(np.abs(value_old_l-value_new_l)) > tol) and (np.max(np.abs(value_old_h-value_new_h)) > tol)  and ctr<1000: \n",
    "    np.copyto(value_old_l, value_new_l) \n",
    "    np.copyto(value_old_h, value_new_h)\n",
    "    for ii in np.arange(num_points): \n",
    "        value_new_l[ii] = np.max(np.log(w_vec[ii]-wprime[wprime<=w_vec[ii]])+0.9*beta*value_old_l[wprime<=w_vec[ii]] + \\\n",
    "        0.1*beta*value_old_h[wprime<=w_vec[ii]])\n",
    "        value_new_h[ii] = np.max(2*np.log(w_vec[ii]-wprime[wprime<=w_vec[ii]])+0.6*beta*value_old_h[wprime<=w_vec[ii]] + \\\n",
    "        0.4*beta*value_old_l[wprime<=w_vec[ii]])\n",
    "        #policy[ii] = np.argmax(np.log(w_vec[ii]-wprime[wprime<=w_vec[ii]])+beta*value_old[wprime<=w_vec[ii]]) \n",
    "    ctr = ctr+1 \n",
    "\n",
    "print(ctr) \n",
    "plt.plot(w_vec, value_new_l,'r-',w_vec,value_new_h,'k-')\n",
    "plt.show()"
   ]
  }
 ],
 "metadata": {
  "kernelspec": {
   "display_name": "Python 3",
   "language": "python",
   "name": "python3"
  },
  "language_info": {
   "codemirror_mode": {
    "name": "ipython",
    "version": 3
   },
   "file_extension": ".py",
   "mimetype": "text/x-python",
   "name": "python",
   "nbconvert_exporter": "python",
   "pygments_lexer": "ipython3",
   "version": "3.6.0"
  }
 },
 "nbformat": 4,
 "nbformat_minor": 2
}
