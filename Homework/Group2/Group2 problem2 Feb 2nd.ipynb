{
 "cells": [
  {
   "cell_type": "markdown",
   "metadata": {},
   "source": [
    "Problem 2 \n",
    "\n",
    " definition EER:\n",
    "The effective exchange rate is an index that describes the strength of a currency relative to a basket of other currencies. Suppose a country has N trading partners and denote $Trade_{i}$ and $E_{i}$  as the trade and exchange rate with country $i$  respectively. Then the effective exchange rate is calculated as:\n",
    "\n",
    "$${\\displaystyle E_{effective}=E_{1}{\\frac {Trade_{1}}{Trade}}+...+E_{N}{\\frac {Trade_{N}}{Trade}}}$$\n",
    "\n",
    " definition REER:\n",
    "A real effective exchange rate (REER) adjusts EER by the appropriate foreign price level and deflates by the home country price level"
   ]
  },
  {
   "cell_type": "code",
   "execution_count": 1,
   "metadata": {},
   "outputs": [
    {
     "name": "stderr",
     "output_type": "stream",
     "text": [
      "C:\\Users\\phbs\\Anaconda3\\lib\\site-packages\\statsmodels\\compat\\pandas.py:56: FutureWarning: The pandas.core.datetools module is deprecated and will be removed in a future version. Please use the pandas.tseries module instead.\n",
      "  from pandas.core import datetools\n"
     ]
    }
   ],
   "source": [
    "import pandas as pd\n",
    "import numpy as np\n",
    "import matplotlib.pyplot as plt\n",
    "import statsmodels.api as sm"
   ]
  },
  {
   "cell_type": "code",
   "execution_count": 14,
   "metadata": {},
   "outputs": [
    {
     "data": {
      "text/html": [
       "<div>\n",
       "<style scoped>\n",
       "    .dataframe tbody tr th:only-of-type {\n",
       "        vertical-align: middle;\n",
       "    }\n",
       "\n",
       "    .dataframe tbody tr th {\n",
       "        vertical-align: top;\n",
       "    }\n",
       "\n",
       "    .dataframe thead th {\n",
       "        text-align: right;\n",
       "    }\n",
       "</style>\n",
       "<table border=\"1\" class=\"dataframe\">\n",
       "  <thead>\n",
       "    <tr style=\"text-align: right;\">\n",
       "      <th></th>\n",
       "      <th>Date</th>\n",
       "      <th>CNYUSD</th>\n",
       "      <th>RMB_REER</th>\n",
       "      <th>CHN PMI</th>\n",
       "      <th>USA PMI</th>\n",
       "      <th>CHN M1</th>\n",
       "      <th>USA M1</th>\n",
       "      <th>CHN M2</th>\n",
       "      <th>USA M2</th>\n",
       "      <th>CHN CPI inflation</th>\n",
       "      <th>USA CPI inflation</th>\n",
       "      <th>CHN_IBR</th>\n",
       "      <th>US_FFR</th>\n",
       "    </tr>\n",
       "  </thead>\n",
       "  <tbody>\n",
       "    <tr>\n",
       "      <th>0</th>\n",
       "      <td>2005-07</td>\n",
       "      <td>8.1062</td>\n",
       "      <td>85.01</td>\n",
       "      <td>51.1</td>\n",
       "      <td>52.8</td>\n",
       "      <td>97,700.00</td>\n",
       "      <td>1,365.00</td>\n",
       "      <td>277,000.00</td>\n",
       "      <td>6,498.40</td>\n",
       "      <td>1.8</td>\n",
       "      <td>3.2</td>\n",
       "      <td>1.1395</td>\n",
       "      <td>3.36</td>\n",
       "    </tr>\n",
       "    <tr>\n",
       "      <th>1</th>\n",
       "      <td>2005-08</td>\n",
       "      <td>8.0998</td>\n",
       "      <td>85.05</td>\n",
       "      <td>52.6</td>\n",
       "      <td>52.4</td>\n",
       "      <td>99,400.00</td>\n",
       "      <td>1,376.50</td>\n",
       "      <td>281,300.00</td>\n",
       "      <td>6,522.50</td>\n",
       "      <td>1.3</td>\n",
       "      <td>3.6</td>\n",
       "      <td>1.1774</td>\n",
       "      <td>3.30</td>\n",
       "    </tr>\n",
       "    <tr>\n",
       "      <th>2</th>\n",
       "      <td>2005-09</td>\n",
       "      <td>8.0920</td>\n",
       "      <td>85.29</td>\n",
       "      <td>55.1</td>\n",
       "      <td>56.8</td>\n",
       "      <td>101,000.00</td>\n",
       "      <td>1,363.10</td>\n",
       "      <td>287,000.00</td>\n",
       "      <td>6,555.00</td>\n",
       "      <td>0.9</td>\n",
       "      <td>4.7</td>\n",
       "      <td>1.1675</td>\n",
       "      <td>3.57</td>\n",
       "    </tr>\n",
       "    <tr>\n",
       "      <th>3</th>\n",
       "      <td>2005-10</td>\n",
       "      <td>8.0845</td>\n",
       "      <td>86.39</td>\n",
       "      <td>54.1</td>\n",
       "      <td>57.2</td>\n",
       "      <td>101,800.00</td>\n",
       "      <td>1,365.10</td>\n",
       "      <td>287,600.00</td>\n",
       "      <td>6,582.30</td>\n",
       "      <td>1.2</td>\n",
       "      <td>4.3</td>\n",
       "      <td>1.2442</td>\n",
       "      <td>3.73</td>\n",
       "    </tr>\n",
       "    <tr>\n",
       "      <th>4</th>\n",
       "      <td>2005-11</td>\n",
       "      <td>8.0804</td>\n",
       "      <td>87.75</td>\n",
       "      <td>54.1</td>\n",
       "      <td>56.7</td>\n",
       "      <td>104,100.00</td>\n",
       "      <td>1,373.20</td>\n",
       "      <td>292,400.00</td>\n",
       "      <td>6,623.00</td>\n",
       "      <td>1.3</td>\n",
       "      <td>3.5</td>\n",
       "      <td>1.2049</td>\n",
       "      <td>3.99</td>\n",
       "    </tr>\n",
       "  </tbody>\n",
       "</table>\n",
       "</div>"
      ],
      "text/plain": [
       "      Date  CNYUSD  RMB_REER  CHN PMI  USA PMI       CHN M1     USA M1  \\\n",
       "0  2005-07  8.1062     85.01     51.1     52.8   97,700.00   1,365.00    \n",
       "1  2005-08  8.0998     85.05     52.6     52.4   99,400.00   1,376.50    \n",
       "2  2005-09  8.0920     85.29     55.1     56.8  101,000.00   1,363.10    \n",
       "3  2005-10  8.0845     86.39     54.1     57.2  101,800.00   1,365.10    \n",
       "4  2005-11  8.0804     87.75     54.1     56.7  104,100.00   1,373.20    \n",
       "\n",
       "        CHN M2     USA M2  CHN CPI inflation  USA CPI inflation  CHN_IBR  \\\n",
       "0  277,000.00   6,498.40                 1.8                3.2   1.1395   \n",
       "1  281,300.00   6,522.50                 1.3                3.6   1.1774   \n",
       "2  287,000.00   6,555.00                 0.9                4.7   1.1675   \n",
       "3  287,600.00   6,582.30                 1.2                4.3   1.2442   \n",
       "4  292,400.00   6,623.00                 1.3                3.5   1.2049   \n",
       "\n",
       "   US_FFR  \n",
       "0    3.36  \n",
       "1    3.30  \n",
       "2    3.57  \n",
       "3    3.73  \n",
       "4    3.99  "
      ]
     },
     "execution_count": 14,
     "metadata": {},
     "output_type": "execute_result"
    }
   ],
   "source": [
    "erf = pd.read_csv('https://github.com/QuantEcon/ShenzhenWinterCamp/raw/master/Jiao%20Shi/ER_predict.csv')\n",
    "erf.head()"
   ]
  },
  {
   "cell_type": "markdown",
   "metadata": {},
   "source": [
    "The Taylor-rule model\n",
    "$$ E_{t}(s_{t+1}-s_{t})=\\alpha+\\beta_1(\\pi_{t}-\\pi_{t}^{*})+\\beta_{2}(\\tilde{y}_{t}-\\tilde{y}_{t}^{*}) $$"
   ]
  },
  {
   "cell_type": "code",
   "execution_count": 15,
   "metadata": {
    "collapsed": true
   },
   "outputs": [],
   "source": [
    "erf['Δπ'] = erf['CHN CPI inflation']-erf['USA CPI inflation']\n",
    "erf['Δy'] = (erf['CHN PMI'] - np.mean(erf['CHN PMI'])) - (erf['USA PMI'] - np.mean(erf['USA PMI']))\n",
    "erf['ΔREER_Notconfig'] = erf['RMB_REER'].diff(periods = 1)\n",
    "erf['Constant'] = 1\n",
    "erf['ΔREER'] = erf['ΔREER_Notconfig'].shift(-1)"
   ]
  },
  {
   "cell_type": "code",
   "execution_count": 17,
   "metadata": {},
   "outputs": [
    {
     "name": "stdout",
     "output_type": "stream",
     "text": [
      "                            OLS Regression Results                            \n",
      "==============================================================================\n",
      "Dep. Variable:                  ΔREER   R-squared:                       0.010\n",
      "Model:                            OLS   Adj. R-squared:                 -0.003\n",
      "Method:                 Least Squares   F-statistic:                    0.7599\n",
      "Date:                Fri, 02 Feb 2018   Prob (F-statistic):              0.470\n",
      "Time:                        15:58:41   Log-Likelihood:                -262.78\n",
      "No. Observations:                 149   AIC:                             531.6\n",
      "Df Residuals:                     146   BIC:                             540.6\n",
      "Df Model:                           2                                         \n",
      "Covariance Type:            nonrobust                                         \n",
      "==============================================================================\n",
      "                 coef    std err          t      P>|t|      [0.025      0.975]\n",
      "------------------------------------------------------------------------------\n",
      "Constant       0.2457      0.126      1.948      0.053      -0.004       0.495\n",
      "Δπ             0.0024      0.072      0.034      0.973      -0.140       0.145\n",
      "Δy            -0.0316      0.026     -1.233      0.220      -0.082       0.019\n",
      "==============================================================================\n",
      "Omnibus:                        0.001   Durbin-Watson:                   1.259\n",
      "Prob(Omnibus):                  0.999   Jarque-Bera (JB):                0.052\n",
      "Skew:                          -0.005   Prob(JB):                        0.974\n",
      "Kurtosis:                       2.909   Cond. No.                         5.08\n",
      "==============================================================================\n",
      "\n",
      "Warnings:\n",
      "[1] Standard Errors assume that the covariance matrix of the errors is correctly specified.\n"
     ]
    }
   ],
   "source": [
    "result = sm.OLS(erf['ΔREER'][:len(erf)-1],erf[['Constant','Δπ','Δy']][:len(erf)-1]).fit()\n",
    "print(result.summary())"
   ]
  },
  {
   "cell_type": "code",
   "execution_count": 27,
   "metadata": {},
   "outputs": [
    {
     "data": {
      "text/plain": [
       "1.4115433851784678"
      ]
     },
     "execution_count": 27,
     "metadata": {},
     "output_type": "execute_result"
    }
   ],
   "source": [
    "##Compute the RMSE of raw Taylor rule model\n",
    "np.sqrt( np.mean((result.predict()-erf['ΔREER'][:len(erf)-1])**2) )"
   ]
  },
  {
   "cell_type": "markdown",
   "metadata": {},
   "source": [
    "**the sign of coefficient is positive, it is consistent with our intuition but not statistically significant**"
   ]
  },
  {
   "cell_type": "code",
   "execution_count": 23,
   "metadata": {},
   "outputs": [
    {
     "data": {
      "text/plain": [
       "1.4288842291860202"
      ]
     },
     "execution_count": 23,
     "metadata": {},
     "output_type": "execute_result"
    }
   ],
   "source": [
    "size_sample = 149\n",
    "size_subsample = 60\n",
    "fcst_tr = np.zeros(size_sample - size_subsample)\n",
    "fcst_error_tr = np.zeros(size_sample - size_subsample)\n",
    "for i in range (size_sample - size_subsample):\n",
    "    # Create a column to store the output gap difference and update it in each loop\n",
    "    y_chn = erf['CHN PMI'] - np.mean(erf.loc[i:size_subsample-1+i, 'CHN PMI'])\n",
    "    y_us = erf['USA PMI'] - np.mean(erf.loc[i:size_subsample-1+i, 'USA PMI'])\n",
    "    erf['y_diff'] = y_chn - y_us\n",
    "    \n",
    "    reg_trsub = sm.OLS(endog=erf.loc[i:size_subsample-1+i,'ΔREER'], exog=erf.loc[erf.index[i:size_subsample+i],['Constant', 'Δπ','y_diff']], missing='drop')\n",
    "    results_sub = reg_trsub.fit()\n",
    "    \n",
    "    \n",
    "    fcst_tr[i] = results_sub.predict(exog = [erf.loc[size_subsample+i,['Constant', 'Δπ','y_diff']]])\n",
    "    error = results_sub.predict(exog = [erf.loc[size_subsample+i,['Constant', 'Δπ','y_diff']]]) - erf.loc[size_subsample+i, 'ΔREER']\n",
    "    fcst_error_tr[i] = error\n",
    "    \n",
    "\n",
    "# Compute RMSE for adjusted Taylor rule model\n",
    "rmse_tr = np.sqrt(np.mean(fcst_error_tr**2))\n",
    "rmse_tr"
   ]
  },
  {
   "cell_type": "markdown",
   "metadata": {},
   "source": [
    "**Comparing with this morning's Taylor Rule Model, we find that RMSE becomes larger.**"
   ]
  },
  {
   "cell_type": "code",
   "execution_count": null,
   "metadata": {
    "collapsed": true
   },
   "outputs": [],
   "source": []
  }
 ],
 "metadata": {
  "kernelspec": {
   "display_name": "Python 3",
   "language": "python",
   "name": "python3"
  },
  "language_info": {
   "codemirror_mode": {
    "name": "ipython",
    "version": 3
   },
   "file_extension": ".py",
   "mimetype": "text/x-python",
   "name": "python",
   "nbconvert_exporter": "python",
   "pygments_lexer": "ipython3",
   "version": "3.6.1"
  }
 },
 "nbformat": 4,
 "nbformat_minor": 2
}
