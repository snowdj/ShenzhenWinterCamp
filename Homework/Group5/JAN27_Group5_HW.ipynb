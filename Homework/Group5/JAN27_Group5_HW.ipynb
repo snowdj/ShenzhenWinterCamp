{
 "cells": [
  {
   "cell_type": "markdown",
   "metadata": {},
   "source": [
    "# Group 5 HW"
   ]
  },
  {
   "cell_type": "markdown",
   "metadata": {},
   "source": [
    "#### Name List\n",
    "* Jiayu ZHOU  \n",
    "* Xiaochen YAN  \n",
    "* Qinxuan ZHANG  \n",
    "* Chang WANG  \n",
    "* Shaobo ZHAO"
   ]
  },
  {
   "cell_type": "markdown",
   "metadata": {},
   "source": [
    "## Exercise 1"
   ]
  },
  {
   "cell_type": "code",
   "execution_count": 24,
   "metadata": {},
   "outputs": [],
   "source": [
    "import numpy as np\n",
    "\n",
    "class Tax:\n",
    "    '''\n",
    "    Computes the taxes of firms under several tax brackets.\n",
    "    '''\n",
    "    def __init__(self, revenue, cost):\n",
    "        \"Initialize company with revenue and cost\"\n",
    "        self.revenue, self.cost=revenue, cost\n",
    "        \n",
    "    def compute_income(self):\n",
    "        \"compute the income of the firm\"\n",
    "        self.income = self.revenue- self.cost\n",
    "        return self.income\n",
    "    \n",
    "    def set_brackets(self,brackets=[0,1,2,5,10*10]):\n",
    "        \"Please set a large upper limit for the tax brackets.\"\n",
    "        self.brackets = brackets\n",
    "        return self.brackets\n",
    "    \n",
    "    def set_percent(self,percent=[0.1,0.15,0.2,0.25]):\n",
    "        self.percent = percent\n",
    "        return self.percent\n",
    "    \n",
    "    def compute_tax(self):\n",
    "        brackets = self.set_brackets()\n",
    "        percent = self.set_percent()\n",
    "        income = self.compute_income()\n",
    "        \n",
    "        if self.income<0:\n",
    "            print('The income is negative. No taxes.')\n",
    "        \n",
    "        if len(percent)!=len(brackets)-1:\n",
    "            print('the brackets are not matched with percent')\n",
    "            \n",
    "        tax=0\n",
    "        ss=np.searchsorted(brackets,income)\n",
    "        for i in range(ss):\n",
    "            tax+=percent[i]*(min(brackets[i+1],income)-brackets[i])\n",
    "        \n",
    "        return float(\"{0:.2f}\".format(tax))\n",
    "        \n",
    "    def compute_average_tax_rate(self):\n",
    "        \"compute the average tax rate of the firm\"\n",
    "        income  = self.compute_income()\n",
    "        tax = self.compute_tax()\n",
    "        return float(\"{0:.3f}\".format(tax/income))\n",
    "                 "
   ]
  },
  {
   "cell_type": "code",
   "execution_count": 25,
   "metadata": {},
   "outputs": [
    {
     "name": "stdout",
     "output_type": "stream",
     "text": [
      "Income: 10 Million\n",
      "Tax: 2.1 Million\n",
      "Rate: 21.0 Percent\n"
     ]
    }
   ],
   "source": [
    "Firm_1 = Tax(105,95)\n",
    "print('Income:', Firm_1.compute_income(), 'Million')\n",
    "print('Tax:', Firm_1.compute_tax(), 'Million')\n",
    "print('Rate:', Firm_1.compute_average_tax_rate()*100, 'Percent')"
   ]
  },
  {
   "cell_type": "code",
   "execution_count": 26,
   "metadata": {},
   "outputs": [
    {
     "name": "stdout",
     "output_type": "stream",
     "text": [
      "Income: 3 Million\n",
      "Tax: 0.45 Million\n",
      "Rate: 15.0 Percent\n"
     ]
    }
   ],
   "source": [
    "Firm_2 = Tax(13,10)\n",
    "print('Income:', Firm_2.compute_income(), 'Million')\n",
    "print('Tax:', Firm_2.compute_tax(),'Million')\n",
    "print('Rate:', Firm_2.compute_average_tax_rate()*100, 'Percent')"
   ]
  },
  {
   "cell_type": "markdown",
   "metadata": {},
   "source": [
    "## Exercise 2"
   ]
  },
  {
   "cell_type": "code",
   "execution_count": 9,
   "metadata": {
    "collapsed": true
   },
   "outputs": [],
   "source": [
    "import numpy as np\n",
    "\n",
    "class Roulette:\n",
    "    '''\n",
    "    A simple roulette game\n",
    "    '''\n",
    "\n",
    "    house_earnings = 0\n",
    "    \n",
    "\n",
    "    def __init__(self, stash):\n",
    "        self.stash = stash\n",
    "        \n",
    "    def roll(self):\n",
    "        red = (1, 3, 5, 7, 9, 12,14, 16, 18, 19, 21, 23,25, 27, 30, 32, 34, 36)\n",
    "        black = (2, 4, 6, 8, 10, 11,13, 15, 17, 20, 22, 24,26, 28, 29, 31, 33, 35)\n",
    "        even = np.linspace(2,36,18)\n",
    "        odd = np.linspace(1,35,18)\n",
    "        types = {'O':odd,'E':even,'B':black,'R':red}\n",
    "    \n",
    "        bet_type = input(\"If straight up, just input the number between 0 and 36. O for odd, E for even. R for red, B for black. Choose bet type:\")\n",
    "       \n",
    "        amount = int(input(\"Choose bet amount:\"))\n",
    "        if amount > self.stash:\n",
    "            raise ValueError(\"Amount is too high\")\n",
    "\n",
    "        roll = int(np.random.uniform(0,36))\n",
    "        print(\"You rolled {0}\".format(roll))\n",
    "        \n",
    "        if bet_type.isdigit():\n",
    "            bet_type = int(bet_type)\n",
    "            if roll == bet_type:\n",
    "                print(\"You win :)\")\n",
    "                self.stash = self.stash + 35 * amount\n",
    "                Roulette.house_earnings = Roulette.house_earnings - 35 * amount\n",
    "            else:\n",
    "                print(\"You lose :(\")\n",
    "                self.stash = self.stash - amount\n",
    "                Roulette.house_earnings = Roulette.house_earnings + amount\n",
    "        else:\n",
    "            if roll in types[bet_type]:\n",
    "                print(\"You win :)\")\n",
    "                self.stash = self.stash + amount\n",
    "                Roulette.house_earnings = Roulette.house_earnings - amount\n",
    "            else:\n",
    "                print(\"You lose :(\")\n",
    "                self.stash = self.stash - amount\n",
    "                Roulette.house_earnings = Roulette.house_earnings + amount\n",
    "                \n",
    "        print(\"Current stash: {0}\".format(self.stash))\n",
    "\n",
    "    def add_money(self,add):\n",
    "        self.stash += add\n",
    "        return print(\"You added {0} into the stash. \\nCurrent stash {1}\".format(add, self.stash))\n",
    "            \n",
    "    def check_stash(self):\n",
    "        return print(\"Current stash: {0}\".format(self.stash))\n",
    "        \n",
    "    def check_house_earnings(self):\n",
    "        return print(\"House earnings: {0}\".format(Roulette.house_earnings))"
   ]
  },
  {
   "cell_type": "code",
   "execution_count": 10,
   "metadata": {
    "scrolled": true
   },
   "outputs": [
    {
     "name": "stdout",
     "output_type": "stream",
     "text": [
      "If straight up, just input the number between 0 and 36. O for odd, E for even. R for red, B for black. Choose bet type:5\n",
      "Choose bet amount:40\n",
      "You rolled 22\n",
      "You lose :(\n",
      "Current stash: 60\n"
     ]
    }
   ],
   "source": [
    "Player_1 = Roulette(100)\n",
    "Player_1.roll()"
   ]
  },
  {
   "cell_type": "code",
   "execution_count": 11,
   "metadata": {},
   "outputs": [
    {
     "name": "stdout",
     "output_type": "stream",
     "text": [
      "If straight up, just input the number between 0 and 36. O for odd, E for even. R for red, B for black. Choose bet type:R\n",
      "Choose bet amount:70\n"
     ]
    },
    {
     "ename": "ValueError",
     "evalue": "Amount is too high",
     "output_type": "error",
     "traceback": [
      "\u001b[1;31m---------------------------------------------------------------------------\u001b[0m",
      "\u001b[1;31mValueError\u001b[0m                                Traceback (most recent call last)",
      "\u001b[1;32m<ipython-input-11-30712792c560>\u001b[0m in \u001b[0;36m<module>\u001b[1;34m()\u001b[0m\n\u001b[1;32m----> 1\u001b[1;33m \u001b[0mPlayer_1\u001b[0m\u001b[1;33m.\u001b[0m\u001b[0mroll\u001b[0m\u001b[1;33m(\u001b[0m\u001b[1;33m)\u001b[0m\u001b[1;33m\u001b[0m\u001b[0m\n\u001b[0m",
      "\u001b[1;32m<ipython-input-9-ba8422da3c6d>\u001b[0m in \u001b[0;36mroll\u001b[1;34m(self)\u001b[0m\n\u001b[0;32m     23\u001b[0m         \u001b[0mamount\u001b[0m \u001b[1;33m=\u001b[0m \u001b[0mint\u001b[0m\u001b[1;33m(\u001b[0m\u001b[0minput\u001b[0m\u001b[1;33m(\u001b[0m\u001b[1;34m\"Choose bet amount:\"\u001b[0m\u001b[1;33m)\u001b[0m\u001b[1;33m)\u001b[0m\u001b[1;33m\u001b[0m\u001b[0m\n\u001b[0;32m     24\u001b[0m         \u001b[1;32mif\u001b[0m \u001b[0mamount\u001b[0m \u001b[1;33m>\u001b[0m \u001b[0mself\u001b[0m\u001b[1;33m.\u001b[0m\u001b[0mstash\u001b[0m\u001b[1;33m:\u001b[0m\u001b[1;33m\u001b[0m\u001b[0m\n\u001b[1;32m---> 25\u001b[1;33m             \u001b[1;32mraise\u001b[0m \u001b[0mValueError\u001b[0m\u001b[1;33m(\u001b[0m\u001b[1;34m\"Amount is too high\"\u001b[0m\u001b[1;33m)\u001b[0m\u001b[1;33m\u001b[0m\u001b[0m\n\u001b[0m\u001b[0;32m     26\u001b[0m \u001b[1;33m\u001b[0m\u001b[0m\n\u001b[0;32m     27\u001b[0m         \u001b[0mroll\u001b[0m \u001b[1;33m=\u001b[0m \u001b[0mint\u001b[0m\u001b[1;33m(\u001b[0m\u001b[0mnp\u001b[0m\u001b[1;33m.\u001b[0m\u001b[0mrandom\u001b[0m\u001b[1;33m.\u001b[0m\u001b[0muniform\u001b[0m\u001b[1;33m(\u001b[0m\u001b[1;36m0\u001b[0m\u001b[1;33m,\u001b[0m\u001b[1;36m36\u001b[0m\u001b[1;33m)\u001b[0m\u001b[1;33m)\u001b[0m\u001b[1;33m\u001b[0m\u001b[0m\n",
      "\u001b[1;31mValueError\u001b[0m: Amount is too high"
     ]
    }
   ],
   "source": [
    "Player_1.roll()"
   ]
  },
  {
   "cell_type": "code",
   "execution_count": 12,
   "metadata": {},
   "outputs": [
    {
     "name": "stdout",
     "output_type": "stream",
     "text": [
      "If straight up, just input the number between 0 and 36. O for odd, E for even. R for red, B for black. Choose bet type:E\n",
      "Choose bet amount:60\n",
      "You rolled 7\n",
      "You lose :(\n",
      "Current stash: 100\n"
     ]
    }
   ],
   "source": [
    "Player_2 = Roulette(160)\n",
    "Player_2.roll()"
   ]
  },
  {
   "cell_type": "code",
   "execution_count": 13,
   "metadata": {},
   "outputs": [
    {
     "name": "stdout",
     "output_type": "stream",
     "text": [
      "You added 20 into the stash. \n",
      "Current stash 80\n"
     ]
    }
   ],
   "source": [
    "Player_1.add_money(20)"
   ]
  },
  {
   "cell_type": "code",
   "execution_count": 14,
   "metadata": {},
   "outputs": [
    {
     "name": "stdout",
     "output_type": "stream",
     "text": [
      "House earnings: 100\n"
     ]
    }
   ],
   "source": [
    "Player_1.check_house_earnings()"
   ]
  },
  {
   "cell_type": "markdown",
   "metadata": {},
   "source": [
    "## Exercise 3"
   ]
  },
  {
   "cell_type": "code",
   "execution_count": 52,
   "metadata": {
    "collapsed": true
   },
   "outputs": [],
   "source": [
    "class ECDF:\n",
    "    '''\n",
    "    empirical cumulative distribution function\n",
    "    '''\n",
    "    \n",
    "    def __init__(self,observations):\n",
    "        self.observations = observations\n",
    "        \n",
    "    def __call__(self,x):\n",
    "        obs = np.array(self.observations)\n",
    "        return np.mean(obs<=x)"
   ]
  },
  {
   "cell_type": "code",
   "execution_count": 53,
   "metadata": {},
   "outputs": [
    {
     "data": {
      "text/plain": [
       "0.5"
      ]
     },
     "execution_count": 53,
     "metadata": {},
     "output_type": "execute_result"
    }
   ],
   "source": [
    "m = ECDF([1,2,3,3,3,4,4,4,5,6])\n",
    "m(3)"
   ]
  },
  {
   "cell_type": "markdown",
   "metadata": {},
   "source": [
    "## Exercise 4"
   ]
  },
  {
   "cell_type": "code",
   "execution_count": 242,
   "metadata": {
    "collapsed": true
   },
   "outputs": [],
   "source": [
    "class Polynomial:\n",
    "    '''\n",
    "    This class returns p(x) for any x, and differentiate the polynomial.\n",
    "    '''\n",
    "    \n",
    "    def __init__(self,coefficients):\n",
    "        self.coef=np.array(coefficients)\n",
    "    \n",
    "    def x_poly(self,x):    \n",
    "        x = np.ones(len(self.coef))*x\n",
    "        x[0]=1\n",
    "        x= np.cumprod(x)\n",
    "        return x\n",
    "    \n",
    "    def p(self,x):\n",
    "        y = self.x_poly(x)\n",
    "        return y @ self.coef\n",
    "    \n",
    "    def derivative(self,x):\n",
    "        self.coef = self.coef * np.array(range(len(self.coef)))\n",
    "        y = self.x_poly(x)/x\n",
    "        return y @ self.coef"
   ]
  },
  {
   "cell_type": "code",
   "execution_count": 243,
   "metadata": {},
   "outputs": [
    {
     "data": {
      "text/plain": [
       "49.0"
      ]
     },
     "execution_count": 243,
     "metadata": {},
     "output_type": "execute_result"
    }
   ],
   "source": [
    "n = Polynomial([1,2,3,4])\n",
    "n.p(2)"
   ]
  },
  {
   "cell_type": "code",
   "execution_count": 244,
   "metadata": {},
   "outputs": [
    {
     "data": {
      "text/plain": [
       "62.0"
      ]
     },
     "execution_count": 244,
     "metadata": {},
     "output_type": "execute_result"
    }
   ],
   "source": [
    "n.derivative(2)"
   ]
  },
  {
   "cell_type": "code",
   "execution_count": 245,
   "metadata": {
    "collapsed": true
   },
   "outputs": [],
   "source": [
    "#An alternative method: No imports and give x value in initialization\n",
    "class Polynomial:\n",
    "    \n",
    "    def __init__(self,x,coef):\n",
    "        self.x, self.coef = x, coef\n",
    "    \n",
    "    def p(self):\n",
    "        return sum(a * self.x**i for i, a in enumerate(self.coef))\n",
    "    \n",
    "    def diff(self):\n",
    "        return sum(a*i*self.x**(i-1) for i,a in enumerate(self.coef))"
   ]
  },
  {
   "cell_type": "code",
   "execution_count": 246,
   "metadata": {},
   "outputs": [
    {
     "data": {
      "text/plain": [
       "49"
      ]
     },
     "execution_count": 246,
     "metadata": {},
     "output_type": "execute_result"
    }
   ],
   "source": [
    "n = Polynomial(2,[1,2,3,4])\n",
    "n.p()"
   ]
  },
  {
   "cell_type": "code",
   "execution_count": 247,
   "metadata": {},
   "outputs": [
    {
     "data": {
      "text/plain": [
       "62.0"
      ]
     },
     "execution_count": 247,
     "metadata": {},
     "output_type": "execute_result"
    }
   ],
   "source": [
    "n.diff()"
   ]
  },
  {
   "cell_type": "markdown",
   "metadata": {},
   "source": [
    "## DDP Exercise 1"
   ]
  },
  {
   "cell_type": "code",
   "execution_count": 248,
   "metadata": {},
   "outputs": [
    {
     "name": "stdout",
     "output_type": "stream",
     "text": [
      "258\n"
     ]
    },
    {
     "data": {
      "image/png": "[encoded data removed]",
      "text/plain": [
       "<matplotlib.figure.Figure at 0x7c882b0>"
      ]
     },
     "metadata": {},
     "output_type": "display_data"
    },
    {
     "data": {
      "image/png": "[encoded data removed]",
      "text/plain": [
       "<matplotlib.figure.Figure at 0x91600b8>"
      ]
     },
     "metadata": {},
     "output_type": "display_data"
    },
    {
     "name": "stdout",
     "output_type": "stream",
     "text": [
      "Time elapsed:  1.7671010494232178\n"
     ]
    }
   ],
   "source": [
    "import numpy as np\n",
    "import matplotlib.pyplot as plt\n",
    "import time\n",
    "\n",
    "start = time.time()\n",
    "\n",
    "beta = 0.95 \n",
    "num_points = 100\n",
    "tol = 10**(-5) \n",
    "\n",
    "w_vec = np.reshape(np.linspace(0.1,100,num_points),num_points)\n",
    "\n",
    "wprime = w_vec-0.005 \n",
    "\n",
    "mar=np.array([[0.9,0.1],[0.4,0.6]])\n",
    "\n",
    "value_old_l = np.ones(num_points) \n",
    "value_new_l = np.zeros(num_points) \n",
    "value_old_h = np.ones(num_points) \n",
    "value_new_h = np.zeros(num_points) \n",
    "policy_l = np.zeros(num_points) \n",
    "policy_h = np.zeros(num_points)\n",
    "ctr = 0 \n",
    "\n",
    "while(np.max(np.abs(value_old_l-value_new_l)) > tol and np.max(np.abs(value_old_h-value_new_h)) > tol): \n",
    "    np.copyto(value_old_l,value_new_l) \n",
    "    np.copyto(value_old_h,value_new_h)\n",
    "    for ii in np.arange(num_points): \n",
    "        value_new_l[ii] = np.max(np.log(w_vec[ii]-wprime[wprime<=w_vec[ii]])+beta*mar[0,0]*value_old_l[wprime<=w_vec[ii]]\\\n",
    "                               +beta*mar[0,1]*value_old_h[wprime<=w_vec[ii]])\n",
    "        value_new_h[ii] = np.max(np.log(w_vec[ii]-wprime[wprime<=w_vec[ii]])+beta*mar[1,0]*value_old_l[wprime<=w_vec[ii]]\\\n",
    "                               +beta*mar[1,1]*value_old_h[wprime<=w_vec[ii]])\n",
    "        policy_l[ii] = np.argmax(np.log(w_vec[ii]-wprime[wprime<=w_vec[ii]])+beta*mar[0,0]*value_old_l[wprime<=w_vec[ii]]\\\n",
    "                               +beta*mar[0,1]*value_old_h[wprime<=w_vec[ii]])\n",
    "        policy_h[ii] = np.argmax(np.log(w_vec[ii]-wprime[wprime<=w_vec[ii]])+beta*mar[1,0]*value_old_l[wprime<=w_vec[ii]]\\\n",
    "                               +beta*mar[1,1]*value_old_h[wprime<=w_vec[ii]])\n",
    "    ctr = ctr+1 \n",
    "\n",
    "print(ctr)\n",
    "\n",
    "fig,(ax1, ax2)=plt.subplots(1,2)\n",
    "\n",
    "ax1.plot(w_vec, value_new_l, 'b-', label='value function')\n",
    "ax2.plot(w_vec, value_new_h, 'b--', label='value function')\n",
    "ax1.plot(w_vec, policy_l, 'r-', label='policy function')\n",
    "ax2.plot(w_vec, policy_h, 'r--', label='policy function')\n",
    "ax1.legend(loc=\"lower right\")\n",
    "ax2.legend(loc=\"lower right\")\n",
    "ax1.set_title(\"Lower State\")\n",
    "ax2.set_title(\"Higher State\")\n",
    "plt.show()\n",
    "\n",
    "fig, ax=plt.subplots()\n",
    "ax.plot(w_vec, value_new_l, 'b-', label='value function')\n",
    "ax.plot(w_vec, value_new_h, 'b--', label='value function')\n",
    "ax.plot(w_vec, policy_l, 'r-', label='policy function')\n",
    "ax.plot(w_vec, policy_h, 'r--', label='policy function')\n",
    "ax.set_title(\"Convergence\")\n",
    "plt.show()\n",
    "\n",
    "end = time.time()\n",
    "print('Time elapsed: ', end-start)"
   ]
  }
 ],
 "metadata": {
  "kernelspec": {
   "display_name": "Python 3",
   "language": "python",
   "name": "python3"
  },
  "language_info": {
   "codemirror_mode": {
    "name": "ipython",
    "version": 3
   },
   "file_extension": ".py",
   "mimetype": "text/x-python",
   "name": "python",
   "nbconvert_exporter": "python",
   "pygments_lexer": "ipython3",
   "version": "3.6.3"
  }
 },
 "nbformat": 4,
 "nbformat_minor": 2
}
