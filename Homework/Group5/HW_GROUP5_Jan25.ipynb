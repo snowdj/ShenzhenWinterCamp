{
 "cells": [
  {
   "cell_type": "markdown",
   "metadata": {},
   "source": [
    "## Group 5 HW 25 Jan"
   ]
  },
  {
   "cell_type": "markdown",
   "metadata": {
    "collapsed": true
   },
   "source": [
    "#### Name List\n",
    "* Jiayu ZHOU  \n",
    "* Xiaochen YAN  \n",
    "* Qinxuan ZHANG  \n",
    "* Chang WANG  \n",
    "* Shaobo ZHAO"
   ]
  },
  {
   "cell_type": "markdown",
   "metadata": {},
   "source": [
    "## Museum Assignment\n",
    "a) Plot $sin(x)$ and $cos(x)$ functions with $x \\in [-\\pi, \\pi]$. Blue line for $sin$ and green line for $cos$.\n",
    "\n",
    "b) Show the cross points of the two functions, and label their values on the x and y axes as folllows.\n",
    "\n"
   ]
  },
  {
   "cell_type": "code",
   "execution_count": 33,
   "metadata": {},
   "outputs": [
    {
     "data": {
      "image/png": "[encoded data removed]",
      "text/plain": [
       "<matplotlib.figure.Figure at 0xd2cf518>"
      ]
     },
     "metadata": {},
     "output_type": "display_data"
    }
   ],
   "source": [
    "import matplotlib.pyplot as plt\n",
    "import numpy as np\n",
    "from scipy.optimize import bisect\n",
    "fig, ax = plt.subplots()\n",
    "x = np.linspace(-np.pi,np.pi, 200)\n",
    "y = np.sin(x)\n",
    "z = np.cos(x)\n",
    "ax.plot(x, y, 'b-', linewidth=2, label=r'$\\sin$', alpha=0.6)\n",
    "ax.plot(x, z, 'g-', linewidth=2, label=r'$\\cos$', alpha=0.6)\n",
    "f=lambda x: np.sin(x)-np.cos(x)\n",
    "plt.scatter(bisect(f,-np.pi,0), np.sin(bisect(f,-np.pi,0)) , 40, color='red', alpha=1)\n",
    "plt.scatter(bisect(f,0,np.pi), np.sin(bisect(f,0,np.pi)) , 40, color='red', alpha=1)\n",
    "ax.legend(loc='upper left')\n",
    "ax.set_yticks([np.sin(bisect(f,-np.pi,0)),np.sin(bisect(f,0,np.pi))])\n",
    "ax.set_xticks([bisect(f,-np.pi,0),bisect(f,0,np.pi)])\n",
    "plt.show()"
   ]
  },
  {
   "cell_type": "markdown",
   "metadata": {},
   "source": [
    "## Scipy Exercises"
   ]
  },
  {
   "cell_type": "markdown",
   "metadata": {},
   "source": [
    "Question 1:"
   ]
  },
  {
   "cell_type": "code",
   "execution_count": 40,
   "metadata": {
    "scrolled": true
   },
   "outputs": [
    {
     "data": {
      "image/png": "[encoded data removed]",
      "text/plain": [
       "<matplotlib.figure.Figure at 0x89dfa20>"
      ]
     },
     "metadata": {},
     "output_type": "display_data"
    }
   ],
   "source": [
    "import matplotlib.pyplot as plt\n",
    "import numpy as np\n",
    "from scipy.stats import linregress\n",
    "\n",
    "x = np.random.randn(20)\n",
    "y = 2 * x + 0.5 * np.random.randn(20)\n",
    "gradient, intercept, r_value, p_value, std_err = linregress(x, y)\n",
    "\n",
    "n = np.linspace(-2,2,100)\n",
    "m = intercept + gradient*n\n",
    "\n",
    "fig, ax = plt.subplots()\n",
    "ax.plot(n,m,'r-',linewidth=2)\n",
    "plt.scatter(x, y , 40, color='blue')\n",
    "\n",
    "plt.show()"
   ]
  },
  {
   "cell_type": "markdown",
   "metadata": {},
   "source": [
    "Question 2"
   ]
  },
  {
   "cell_type": "code",
   "execution_count": 41,
   "metadata": {},
   "outputs": [
    {
     "name": "stdout",
     "output_type": "stream",
     "text": [
      "[-18.  21.]\n"
     ]
    }
   ],
   "source": [
    "from scipy.optimize import fsolve\n",
    "\n",
    "def f(x):\n",
    "    x1,x2=x.tolist()\n",
    "    return [\n",
    "        x1**2-3*x1+7-385,\n",
    "        x2**2-3*x2+7-385\n",
    "    ]\n",
    "\n",
    "r = fsolve(f,[-10,10])\n",
    "print(r)"
   ]
  },
  {
   "cell_type": "markdown",
   "metadata": {},
   "source": [
    "Question 3"
   ]
  },
  {
   "cell_type": "code",
   "execution_count": 1,
   "metadata": {
    "collapsed": true
   },
   "outputs": [],
   "source": [
    "import numpy as np\n",
    "import sys\n",
    "\n",
    "def bisect_myown(f,a,b,accuracy=0.001):\n",
    "    mid=(b+a)/2\n",
    "    while b-a>accuracy:\n",
    "        sys.setrecursionlimit(1000)\n",
    "        if f(mid)*f(a)<0:\n",
    "            b=mid\n",
    "            bisect_myown(f,a,mid,accuracy)\n",
    "        else:\n",
    "            a=mid\n",
    "            bisect_myown(f,mid,b,accuracy)\n",
    "    return print(mid)  \n",
    "\n"
   ]
  },
  {
   "cell_type": "markdown",
   "metadata": {},
   "source": [
    "### More Exercises on Essentials, Numpy, Matplotlib and SciPy"
   ]
  },
  {
   "cell_type": "markdown",
   "metadata": {},
   "source": [
    "### Exercise 1\n",
    "Generating an array of 10,000,000 random numbers, then set its negative elements to 0.  \n",
    "You are requried to provide **three** implementations: one *using loop*, two *without using loop*.   \n",
    "Please compare their performance by using the $\\%time$ magic command on each implementation."
   ]
  },
  {
   "cell_type": "code",
   "execution_count": 16,
   "metadata": {},
   "outputs": [
    {
     "name": "stdout",
     "output_type": "stream",
     "text": [
      "Wall time: 0 ns\n"
     ]
    }
   ],
   "source": [
    "import numpy as np\n",
    "\n",
    "x=np.random.randn(10000000)\n",
    "for i in range(len(x)):\n",
    "    if x[i]<0:\n",
    "        x[i]=0\n",
    "%time"
   ]
  },
  {
   "cell_type": "code",
   "execution_count": 12,
   "metadata": {},
   "outputs": [
    {
     "name": "stdout",
     "output_type": "stream",
     "text": [
      "Wall time: 0 ns\n"
     ]
    }
   ],
   "source": [
    "x=np.random.randn(10000000)\n",
    "x[x[:]<0]=0\n",
    "%time"
   ]
  },
  {
   "cell_type": "code",
   "execution_count": 13,
   "metadata": {},
   "outputs": [
    {
     "name": "stdout",
     "output_type": "stream",
     "text": [
      "Wall time: 0 ns\n"
     ]
    }
   ],
   "source": [
    "n = np.random.randn(10000000)\n",
    "n = np.where(n<0,0,n)\n",
    "%time"
   ]
  },
  {
   "cell_type": "markdown",
   "metadata": {},
   "source": [
    "### Exercise 2\n",
    "Generate a $4 x k$ matrix, where $k$ is an input given by user, this matrix should look like this:  \n",
    "[  \n",
    " [0, 4, 8, ..., 4(k-1)],  \n",
    " [1, 5, 9, ..., 4(k-1)+1],  \n",
    " [2, 6,10, ..., 4(k-1)+2],  \n",
    " [3, 7,11, ..., 4(k-1)+3]  \n",
    "]  \n",
    "**Note:** try to avoid using loop, and implement it in less than 4 lines of code."
   ]
  },
  {
   "cell_type": "code",
   "execution_count": 6,
   "metadata": {
    "collapsed": true
   },
   "outputs": [],
   "source": [
    "import numpy as np\n",
    "def ge_matrix(k):\n",
    "    return np.arange(0,4*k).reshape(4,-1,order='F')"
   ]
  },
  {
   "cell_type": "code",
   "execution_count": 38,
   "metadata": {},
   "outputs": [
    {
     "data": {
      "text/plain": [
       "array([[ 0,  4,  8, 12, 16],\n",
       "       [ 1,  5,  9, 13, 17],\n",
       "       [ 2,  6, 10, 14, 18],\n",
       "       [ 3,  7, 11, 15, 19]])"
      ]
     },
     "execution_count": 38,
     "metadata": {},
     "output_type": "execute_result"
    }
   ],
   "source": [
    "ge_matrix(5)"
   ]
  },
  {
   "cell_type": "markdown",
   "metadata": {},
   "source": [
    "### Exercise 3\n",
    "Write a function $gcd(a, b)$ to compute the *Greatest Common Divisor* for two naturals $a$ and $b$, which are provided by user input. Then write a function $lcm(a, b)$ by making use of your $gcd$ function to compute the *Least Common Multiple* for $a$ and $b$. Your $gcd$ function should present the result as well as the process on finding the result like below:  \n",
    "\n",
    "gcd(123456, 7890)  \n",
    "0: gcd(123456, 7890)  \n",
    "1: gcd(7890, 5106)  \n",
    "2: gcd(5106, 2784)  \n",
    "3: gcd(2784, 2322)  \n",
    "4: gcd(2322, 462)  \n",
    "5: gcd(462, 12)  \n",
    "6: gcd(12, 6)  \n",
    "Out[595]:  \n",
    "6\n"
   ]
  },
  {
   "cell_type": "code",
   "execution_count": 6,
   "metadata": {
    "collapsed": true
   },
   "outputs": [],
   "source": [
    "def gcd(a,b):\n",
    "    print('gcd({0},{1})'.format(a,b))\n",
    "    if a%b!=0:\n",
    "        a,b=b,a%b\n",
    "        return gcd(a,b)\n",
    "    else:\n",
    "        return b\n",
    "    "
   ]
  },
  {
   "cell_type": "code",
   "execution_count": 5,
   "metadata": {},
   "outputs": [
    {
     "name": "stdout",
     "output_type": "stream",
     "text": [
      "gcd(100,8)\n",
      "gcd(8,4)\n"
     ]
    },
    {
     "data": {
      "text/plain": [
       "4"
      ]
     },
     "execution_count": 5,
     "metadata": {},
     "output_type": "execute_result"
    }
   ],
   "source": [
    "gcd(100,8)"
   ]
  },
  {
   "cell_type": "code",
   "execution_count": 142,
   "metadata": {
    "collapsed": true
   },
   "outputs": [],
   "source": [
    "def lcm(a,b):\n",
    "    return a*b/gcd(a,b)"
   ]
  },
  {
   "cell_type": "code",
   "execution_count": 143,
   "metadata": {},
   "outputs": [
    {
     "name": "stdout",
     "output_type": "stream",
     "text": [
      "gcd(123456,7890)\n",
      "gcd(7890,5106)\n",
      "gcd(5106,2784)\n",
      "gcd(2784,2322)\n",
      "gcd(2322,462)\n",
      "gcd(462,12)\n",
      "gcd(12,6)\n"
     ]
    },
    {
     "data": {
      "text/plain": [
       "162344640.0"
      ]
     },
     "execution_count": 143,
     "metadata": {},
     "output_type": "execute_result"
    }
   ],
   "source": [
    "x=lcm(123456,7890)\n",
    "x"
   ]
  },
  {
   "cell_type": "markdown",
   "metadata": {},
   "source": [
    "### Exercise 4\n",
    "Write a function to remove redundant white spaces from a line of text.  \n",
    "e.g. '$This\\ is \\ \\ \\ \\ \\ \\ \\ \\ \\ \\ \\ for\\ removing \\ \\ \\ \\ \\ \\ \\ redundant\\ spaces$'   \n",
    "=>  '$This\\ is\\ for\\ removing\\ redundant\\ spaces$'   \n",
    "\n",
    "**Note**: try to avoid using loop, check out the built-in functions of Python"
   ]
  },
  {
   "cell_type": "code",
   "execution_count": 148,
   "metadata": {
    "collapsed": true
   },
   "outputs": [],
   "source": [
    "def re_whitespace(str):\n",
    "     return ' '.join(str.split())"
   ]
  },
  {
   "cell_type": "code",
   "execution_count": 149,
   "metadata": {},
   "outputs": [
    {
     "data": {
      "text/plain": [
       "'This is for removing redundant spaces'"
      ]
     },
     "execution_count": 149,
     "metadata": {},
     "output_type": "execute_result"
    }
   ],
   "source": [
    "re_whitespace('This is    for removing       redundant spaces')"
   ]
  },
  {
   "cell_type": "markdown",
   "metadata": {},
   "source": [
    "### Exercise 5\n",
    "Given an array, e.g., [2, 18, 9, 22, 17, 24, 8, 12, 27],  \n",
    "generate a subarry from elements which are multiples of 3, e.g., [18, 9, 24, 12, 27]   \n",
    "\n",
    "**Note**: try to avoid using loop, check out the built-in functions of Python"
   ]
  },
  {
   "cell_type": "code",
   "execution_count": 157,
   "metadata": {},
   "outputs": [
    {
     "data": {
      "text/plain": [
       "array([18,  9, 24, 12, 27])"
      ]
     },
     "execution_count": 157,
     "metadata": {},
     "output_type": "execute_result"
    }
   ],
   "source": [
    "import numpy as np\n",
    "a=np.array((2,18,9,22,17,24,8,12,27))\n",
    "b=a[a%3==0]\n",
    "b"
   ]
  },
  {
   "cell_type": "markdown",
   "metadata": {},
   "source": [
    "### Exercise 6\n",
    "Read a text file, get the 20 most frequent words from the text file, output the words as well as their counts.  \n",
    "**Note:** \n",
    "1. You should exclude punctuations such as \", . ! # $ ...\". In other words, only count English words\n",
    "2. You should provide a dictionary to your code which exclude counting any word in this list, e.g., a dictionray may look like this: [to, a, as, this, for, in, on, but].\n",
    "\n",
    "**Hint: ** You may need some knowledge on regular expressions and its usage in Python."
   ]
  },
  {
   "cell_type": "code",
   "execution_count": 2,
   "metadata": {},
   "outputs": [
    {
     "ename": "FileNotFoundError",
     "evalue": "[Errno 2] No such file or directory: 'Walden.txt'",
     "output_type": "error",
     "traceback": [
      "\u001b[1;31m---------------------------------------------------------------------------\u001b[0m",
      "\u001b[1;31mFileNotFoundError\u001b[0m                         Traceback (most recent call last)",
      "\u001b[1;32m<ipython-input-2-79713482d8ab>\u001b[0m in \u001b[0;36m<module>\u001b[1;34m()\u001b[0m\n\u001b[0;32m      1\u001b[0m \u001b[1;32mfrom\u001b[0m \u001b[0mcollections\u001b[0m \u001b[1;32mimport\u001b[0m \u001b[0mCounter\u001b[0m\u001b[1;33m\u001b[0m\u001b[0m\n\u001b[1;32m----> 2\u001b[1;33m \u001b[0mf\u001b[0m \u001b[1;33m=\u001b[0m \u001b[0mopen\u001b[0m\u001b[1;33m(\u001b[0m\u001b[1;34m'Walden.txt'\u001b[0m\u001b[1;33m,\u001b[0m \u001b[1;34m'r'\u001b[0m\u001b[1;33m)\u001b[0m\u001b[1;33m\u001b[0m\u001b[0m\n\u001b[0m\u001b[0;32m      3\u001b[0m \u001b[0mtext\u001b[0m \u001b[1;33m=\u001b[0m \u001b[0mf\u001b[0m\u001b[1;33m.\u001b[0m\u001b[0mread\u001b[0m\u001b[1;33m(\u001b[0m\u001b[1;33m)\u001b[0m\u001b[1;33m\u001b[0m\u001b[0m\n\u001b[0;32m      4\u001b[0m \u001b[0mlower_text\u001b[0m \u001b[1;33m=\u001b[0m \u001b[0mtext\u001b[0m\u001b[1;33m.\u001b[0m\u001b[0mlower\u001b[0m\u001b[1;33m(\u001b[0m\u001b[1;33m)\u001b[0m\u001b[1;33m\u001b[0m\u001b[0m\n\u001b[0;32m      5\u001b[0m \u001b[0mword\u001b[0m\u001b[1;33m=\u001b[0m\u001b[0mlower_text\u001b[0m\u001b[1;33m.\u001b[0m\u001b[0msplit\u001b[0m\u001b[1;33m(\u001b[0m\u001b[1;33m)\u001b[0m\u001b[1;33m\u001b[0m\u001b[0m\n",
      "\u001b[1;31mFileNotFoundError\u001b[0m: [Errno 2] No such file or directory: 'Walden.txt'"
     ]
    }
   ],
   "source": [
    "from collections import Counter\n",
    "f = open('Walden.txt', 'r')\n",
    "text = f.read()\n",
    "lower_text = text.lower()\n",
    "word=lower_text.split()\n",
    "dictionary = ['to','a','as','this','for','in','on','but','the','and','of','i']\n",
    "temp_list=[]\n",
    "for w in word:  \n",
    "    if w not in dictionary:  \n",
    "        temp_list.append(w)  \n",
    "print (Counter(temp_list).most_common(20))"
   ]
  },
  {
   "cell_type": "markdown",
   "metadata": {},
   "source": [
    "### Exercise 7\n",
    "Given a large integer N, find out all the prime numbers less than N. You may optimize your program in multiple passes, and compare their performance to evaluate your improvent.   \n",
    "\n",
    "**Note:** Suppose initially the only prime number that your program knows is 2."
   ]
  },
  {
   "cell_type": "code",
   "execution_count": 1,
   "metadata": {},
   "outputs": [
    {
     "name": "stdout",
     "output_type": "stream",
     "text": [
      "2\n",
      "3\n",
      "5\n",
      "7\n",
      "11\n",
      "13\n",
      "17\n",
      "19\n",
      "23\n",
      "29\n",
      "31\n",
      "37\n",
      "41\n",
      "43\n",
      "47\n",
      "53\n",
      "59\n",
      "61\n",
      "67\n",
      "71\n",
      "73\n",
      "79\n",
      "83\n",
      "89\n",
      "97\n"
     ]
    }
   ],
   "source": [
    "import numpy as np\n",
    "k=100\n",
    "print(2)\n",
    "for j in range(3,k,2):\n",
    "    for i in range(2,int(np.sqrt(j))+1):\n",
    "        if j%i==0:\n",
    "            break\n",
    "    else:\n",
    "        print(j)"
   ]
  },
  {
   "cell_type": "code",
   "execution_count": 6,
   "metadata": {},
   "outputs": [
    {
     "ename": "NameError",
     "evalue": "name 'collections' is not defined",
     "output_type": "error",
     "traceback": [
      "\u001b[1;31m---------------------------------------------------------------------------\u001b[0m",
      "\u001b[1;31mNameError\u001b[0m                                 Traceback (most recent call last)",
      "\u001b[1;32m<ipython-input-6-d336dd5bb622>\u001b[0m in \u001b[0;36m<module>\u001b[1;34m()\u001b[0m\n\u001b[0;32m      1\u001b[0m \u001b[1;32mfrom\u001b[0m \u001b[0mcollections\u001b[0m \u001b[1;32mimport\u001b[0m \u001b[0mCounter\u001b[0m\u001b[1;33m\u001b[0m\u001b[0m\n\u001b[1;32m----> 2\u001b[1;33m \u001b[0mhelp\u001b[0m\u001b[1;33m(\u001b[0m\u001b[0mcollections\u001b[0m\u001b[1;33m.\u001b[0m\u001b[0mCounter\u001b[0m\u001b[1;33m)\u001b[0m\u001b[1;33m\u001b[0m\u001b[0m\n\u001b[0m",
      "\u001b[1;31mNameError\u001b[0m: name 'collections' is not defined"
     ]
    }
   ],
   "source": [
    "from collections import Counter\n",
    "help(collections.Counter)"
   ]
  },
  {
   "cell_type": "code",
   "execution_count": null,
   "metadata": {
    "collapsed": true
   },
   "outputs": [],
   "source": []
  }
 ],
 "metadata": {
  "kernelspec": {
   "display_name": "Python 3",
   "language": "python",
   "name": "python3"
  },
  "language_info": {
   "codemirror_mode": {
    "name": "ipython",
    "version": 3
   },
   "file_extension": ".py",
   "mimetype": "text/x-python",
   "name": "python",
   "nbconvert_exporter": "python",
   "pygments_lexer": "ipython3",
   "version": "3.6.1"
  }
 },
 "nbformat": 4,
 "nbformat_minor": 2
}
