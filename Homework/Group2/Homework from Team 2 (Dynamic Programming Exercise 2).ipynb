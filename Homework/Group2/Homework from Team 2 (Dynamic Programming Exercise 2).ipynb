{
 "cells": [
  {
   "cell_type": "markdown",
   "metadata": {
    "collapsed": true
   },
   "source": [
    "## Homework from Team 2 (Dynamic Programming)##"
   ]
  },
  {
   "cell_type": "markdown",
   "metadata": {},
   "source": [
    "** Authors: Zhangjie LV, Kaisheng LIAN, Liling HUANG, Shurui LIU, Yuhong ZHU **"
   ]
  },
  {
   "cell_type": "markdown",
   "metadata": {},
   "source": [
    "** Date: Jan 31st 2018 **"
   ]
  },
  {
   "cell_type": "markdown",
   "metadata": {},
   "source": [
    "### Exercises 2"
   ]
  },
  {
   "cell_type": "code",
   "execution_count": 21,
   "metadata": {},
   "outputs": [
    {
     "name": "stdout",
     "output_type": "stream",
     "text": [
      "500\n"
     ]
    },
    {
     "data": {
      "image/png": "[encoded data removed]",
      "text/plain": [
       "<matplotlib.figure.Figure at 0x8491b70>"
      ]
     },
     "metadata": {},
     "output_type": "display_data"
    }
   ],
   "source": [
    "import numpy as np\n",
    "import matplotlib.pyplot as plt\n",
    "import time\n",
    "\n",
    "β = 0.95 \n",
    "num_points = 1000 \n",
    "tol = 1e-10\n",
    "θ, δ = 0.5, 0.1\n",
    "shock_matrix = np.array([[0.9,0.05,0.05],[0.15,0.7,0.15],[0.1,0.1,0.8]])\n",
    "z_l, z_m, z_h = 1, 2, 7\n",
    "\n",
    "w_vec = np.reshape(np.linspace(0.1,100,num_points),num_points) \n",
    "wprime = w_vec-0.005 \n",
    "value_old_l = np.ones(num_points)\n",
    "value_old_h = np.ones(num_points)\n",
    "value_old_m = np.ones(num_points)\n",
    "value_new_l = np.zeros(num_points)\n",
    "value_new_h = np.zeros(num_points)\n",
    "value_new_m = np.zeros(num_points)\n",
    "\n",
    "ctr = 0\n",
    "\n",
    "while(np.max(np.abs(value_old_l-value_new_l)) > tol) and (np.max(np.abs(value_old_m-value_new_m)) > tol) and (np.max(np.abs(value_old_h-value_new_h)) > tol) and ctr<1000: \n",
    "    np.copyto(value_old_l, value_new_l)\n",
    "    np.copyto(value_old_m, value_new_m)\n",
    "    np.copyto(value_old_h, value_new_h)\n",
    "    \n",
    "    for ii in np.arange(num_points): \n",
    "        \n",
    "        value_new_l[ii] = np.max(z_l*w_vec[ii]**θ+(1-δ)*w_vec[ii]-wprime[wprime<=w_vec[ii]]+ β*(shock_matrix[0,0]*value_old_l[wprime<=w_vec[ii]] + \\\n",
    "        shock_matrix[0,1]*value_old_m[wprime<=w_vec[ii]]+shock_matrix[0,2]*value_old_h[wprime<=w_vec[ii]]))\n",
    "        value_new_m[ii] = np.max(z_m*w_vec[ii]**θ+(1-δ)*w_vec[ii]-wprime[wprime<=w_vec[ii]]+ β*(shock_matrix[1,0]*value_old_l[wprime<=w_vec[ii]] + \\\n",
    "        shock_matrix[1,1]*value_old_m[wprime<=w_vec[ii]]+shock_matrix[1,2]*value_old_h[wprime<=w_vec[ii]]))\n",
    "        value_new_h[ii] = np.max(z_h*w_vec[ii]**θ+(1-δ)*w_vec[ii]-wprime[wprime<=w_vec[ii]]+ β*(shock_matrix[2,0]*value_old_l[wprime<=w_vec[ii]] + \\\n",
    "        shock_matrix[2,1]*value_old_m[wprime<=w_vec[ii]]+shock_matrix[2,2]*value_old_h[wprime<=w_vec[ii]]))\n",
    "        \n",
    "    ctr = ctr+1 \n",
    "\n",
    "print(ctr) \n",
    "plt.plot(w_vec, value_new_l,'r-',w_vec,value_new_m,'k-',w_vec,value_new_h,'y-')\n",
    "plt.show()"
   ]
  },
  {
   "cell_type": "code",
   "execution_count": null,
   "metadata": {
    "collapsed": true
   },
   "outputs": [],
   "source": []
  }
 ],
 "metadata": {
  "kernelspec": {
   "display_name": "Python 3",
   "language": "python",
   "name": "python3"
  },
  "language_info": {
   "codemirror_mode": {
    "name": "ipython",
    "version": 3
   },
   "file_extension": ".py",
   "mimetype": "text/x-python",
   "name": "python",
   "nbconvert_exporter": "python",
   "pygments_lexer": "ipython3",
   "version": "3.6.3"
  }
 },
 "nbformat": 4,
 "nbformat_minor": 2
}
