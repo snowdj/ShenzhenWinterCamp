{
 "cells": [
  {
   "cell_type": "code",
   "execution_count": 1,
   "metadata": {
    "collapsed": false
   },
   "outputs": [
    {
     "name": "stdout",
     "output_type": "stream",
     "text": [
      "Income: 10 Million\n",
      "Tax: 2.1 Million\n",
      "Rate: 21.000000000000004 Percent\n",
      "Income: 3 Million\n",
      "Tax: 0.45 Million\n",
      "Rate: 15.0 Percent\n"
     ]
    }
   ],
   "source": [
    "#Exercise 1\n",
    "import numpy as np\n",
    "class Tax:\n",
    "    def __init__(self,revenue,costs,brackets=[0,1,2,5,float('inf')],percent=[0.1,0.15,0.2,0.25]):\n",
    "        self.revenue  = revenue\n",
    "        self.costs    = costs\n",
    "        self.brackets = brackets\n",
    "        self.percent  = percent\n",
    "    def set_revenue(self,revenue):\n",
    "        self.revenue = revenue\n",
    "    def set_costs(self,costs):\n",
    "        self.costs = costs\n",
    "    def set_brackets(brackets):\n",
    "        self.brackets = brackets\n",
    "        if self.brackets[0] != 0:\n",
    "            self.brackets = [0,*self.brackets]\n",
    "        if self.brackets[-1] != float('inf'):\n",
    "            self.brackets.append(float('inf'))\n",
    "    def set_percent(percent):\n",
    "        self.percent = percent\n",
    "    def compute_income(self):\n",
    "        self.income = self.revenue-self.costs\n",
    "        return self.income\n",
    "    def compute_tax(self):\n",
    "        self.compute_income()\n",
    "        seq_bracket = np.array(self.brackets).searchsorted(self.income)\n",
    "        self.tax = 0\n",
    "        for i in range(seq_bracket):\n",
    "            self.tax += self.percent[i]*(min(self.income,self.brackets[i+1])-self.brackets[i])\n",
    "        return self.tax\n",
    "    def compute_average_tax_rate(self):\n",
    "        self.average_tax_rate = self.tax/self.income\n",
    "        return self.average_tax_rate\n",
    "\n",
    "#Test\n",
    "Firm_1 = Tax(105,95)\n",
    "print('Income:', Firm_1.compute_income(), 'Million')\n",
    "print('Tax:', Firm_1.compute_tax(), 'Million')\n",
    "print('Rate:', Firm_1.compute_average_tax_rate()*100, 'Percent')\n",
    "Firm_2 = Tax(13,10)\n",
    "print('Income:', Firm_2.compute_income(), 'Million')\n",
    "print('Tax:', Firm_2.compute_tax(), 'Million')\n",
    "print('Rate:', Firm_2.compute_average_tax_rate()*100, 'Percent')"
   ]
  },
  {
   "cell_type": "code",
   "execution_count": 2,
   "metadata": {
    "collapsed": false
   },
   "outputs": [],
   "source": [
    "#Exercise 2\n",
    "from random import uniform\n",
    "class Roulette:\n",
    "    def __init__(self,stash):\n",
    "        self.stash = stash\n",
    "        self.house_earnings = 0\n",
    "    def add_money(self,money):\n",
    "        self.stash += money\n",
    "    def check_stash(self):\n",
    "        return 'Stash: {}'.format(self.stash)\n",
    "    def check_house_earnings(self):\n",
    "        return 'House_earnings: {}'.format(self.house_earnings)\n",
    "    def roll(self):\n",
    "        game_type = input('If straight up, just input the number between 0 and 36. O for odd, E for even. R for red, B for black. Choose bet type:')\n",
    "        try:\n",
    "            bet_amount = int(input('Choose bet amount:'))\n",
    "        except ValueError as e:\n",
    "            raise ValueError('illegal input')\n",
    "        if bet_amount > self.stash:\n",
    "            flag = input('You only have {} dollars, do you want to continue?(Y/N)'.format(self.stash))\n",
    "            if flag == 'Y' or flag == 'y':\n",
    "                money = input('Please add money:')\n",
    "                if bet_amount > self.stash+money:\n",
    "                    raise ValueError('Please add enough money to continue')\n",
    "                else:\n",
    "                    self.add_money(money)\n",
    "            elif flag == 'N' or flag == 'n':\n",
    "                print('Game over')\n",
    "                return None\n",
    "            else:\n",
    "                raise ValueError('illegal input')\n",
    "        if game_type.isnumeric() and int(game_type) >=0 and int(game_type) <=36:\n",
    "            result = round(uniform(0,36))\n",
    "            print('You rolled {}'.format(result))\n",
    "            if game_type == result:\n",
    "                print('You win :)')\n",
    "                self.stash += bet_amount\n",
    "                self.house_earnings -= bet_amount\n",
    "            else:\n",
    "                print('You lose =(')\n",
    "                self.stash -= bet_amount\n",
    "                self.house_earnings += bet_amount\n",
    "        elif game_type == 'O' or game_type == 'E':\n",
    "            result = round(uniform(0,36))\n",
    "            print('You rolled {}'.format(result))\n",
    "            if (game_type == 'O' and result%2==1) or (game_type == 'E' and result%2==0):\n",
    "                print('You win :)')\n",
    "                self.stash += bet_amount\n",
    "                self.house_earnings -= bet_amount\n",
    "            else:\n",
    "                print('You lose =(')\n",
    "                self.stash -= bet_amount\n",
    "                self.house_earnings += bet_amount\n",
    "        elif game_type == 'R' or game_type == 'B':\n",
    "            black_set = {2,4,6,8,10,11,13,15,17,20,22,24,26,28,29,31,33,35}\n",
    "            red_set   = set(range(1,37))-black_set\n",
    "            result = round(uniform(0,36))\n",
    "            print('You rolled {}'.format(result))\n",
    "            if (game_type == 'R' and result in red_set) or (game_type == 'B' and result in black_set):\n",
    "                print('You win :)')\n",
    "                self.stash += bet_amount\n",
    "                self.house_earnings -= bet_amount\n",
    "            else:\n",
    "                print('You lose =(')\n",
    "                self.stash -= bet_amount\n",
    "                self.house_earnings += bet_amount\n",
    "        else:\n",
    "            raise ValueError('illegal input')\n",
    "            \n"
   ]
  },
  {
   "cell_type": "code",
   "execution_count": 3,
   "metadata": {
    "collapsed": false
   },
   "outputs": [
    {
     "name": "stdout",
     "output_type": "stream",
     "text": [
      "If straight up, just input the number between 0 and 36. O for odd, E for even. R for red, B for black. Choose bet type:10\n",
      "Choose bet amount:10\n",
      "You rolled 8\n",
      "You lose =(\n",
      "House_earnings: 10\n",
      "Stash: 90\n"
     ]
    }
   ],
   "source": [
    "#Test of Exercise 2 \n",
    "Player_1 = Roulette(100)\n",
    "Player_1.roll()\n",
    "print(Player_1.check_house_earnings())\n",
    "print(Player_1.check_stash())"
   ]
  },
  {
   "cell_type": "code",
   "execution_count": 4,
   "metadata": {
    "collapsed": false
   },
   "outputs": [
    {
     "data": {
      "text/plain": [
       "0.5"
      ]
     },
     "execution_count": 4,
     "metadata": {},
     "output_type": "execute_result"
    }
   ],
   "source": [
    "#Exercise 3\n",
    "import numpy as np\n",
    "class ECDF:\n",
    "    def __init__(self,observations):\n",
    "        self.observations = np.asarray(observations)\n",
    "    def __call__(self,x):\n",
    "        return sum(self.observations<=x)/np.size(self.observations)\n",
    "\n",
    "#Test\n",
    "F = ECDF([1,2,3,4])\n",
    "F(2.5)"
   ]
  },
  {
   "cell_type": "code",
   "execution_count": 5,
   "metadata": {
    "collapsed": false
   },
   "outputs": [
    {
     "name": "stdout",
     "output_type": "stream",
     "text": [
      "49\n",
      "62\n"
     ]
    }
   ],
   "source": [
    "#Exercise 4\n",
    "class Polynomial:\n",
    "    def __init__(self,coeff):\n",
    "        self.coeff = coeff\n",
    "        self.N = N = len(self.coeff)-1\n",
    "    def value(self,x):\n",
    "        result = 0\n",
    "        for i in range(self.N+1):\n",
    "            result += self.coeff[i]*(x**i)\n",
    "        return result\n",
    "    def diff_value(self,x):\n",
    "        diff_coeff = []\n",
    "        for i in range(1,self.N+1):\n",
    "            diff_coeff.append(i*self.coeff[i])\n",
    "        new_obj = Polynomial(diff_coeff)\n",
    "        return new_obj.value(x)\n",
    "#Test\n",
    "f = Polynomial([1,2,3,4])\n",
    "print(f.value(2))\n",
    "print(f.diff_value(2))"
   ]
  },
  {
   "cell_type": "code",
   "execution_count": null,
   "metadata": {
    "collapsed": true
   },
   "outputs": [],
   "source": []
  }
 ],
 "metadata": {
  "anaconda-cloud": {},
  "kernelspec": {
   "display_name": "Python [conda root]",
   "language": "python",
   "name": "conda-root-py"
  },
  "language_info": {
   "codemirror_mode": {
    "name": "ipython",
    "version": 3
   },
   "file_extension": ".py",
   "mimetype": "text/x-python",
   "name": "python",
   "nbconvert_exporter": "python",
   "pygments_lexer": "ipython3",
   "version": "3.5.2"
  }
 },
 "nbformat": 4,
 "nbformat_minor": 1
}
