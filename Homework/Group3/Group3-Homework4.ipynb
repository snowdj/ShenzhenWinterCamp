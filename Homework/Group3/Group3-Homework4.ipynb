{
 "cells": [
  {
   "cell_type": "markdown",
   "metadata": {},
   "source": [
    "# Homework3 by group3"
   ]
  },
  {
   "cell_type": "markdown",
   "metadata": {},
   "source": [
    "Authors:Kaiyang LIN,Tianhao MOU,Lin LIU,Yunxia SHI,Guangyi NING"
   ]
  },
  {
   "cell_type": "markdown",
   "metadata": {},
   "source": [
    "# Object Oriented Programming"
   ]
  },
  {
   "cell_type": "code",
   "execution_count": 2,
   "metadata": {},
   "outputs": [
    {
     "name": "stdout",
     "output_type": "stream",
     "text": [
      "Firm 1:\n",
      "Income: 10 Million\n",
      "Tax: 2.1 Million\n",
      "Rate: 21.000000000000004 Percent \n",
      "\n",
      "Firm 2:\n",
      "Income: 3 Million\n",
      "Tax: 0.45 Million\n",
      "Rate: 15.0 Percent\n"
     ]
    }
   ],
   "source": [
    "###Exercise_1\n",
    "class Tax:\n",
    "    def __init__(self, revenue, costs):\n",
    "        self.revenue, self.costs = revenue, costs\n",
    "    \n",
    "    def set_revenue(self):\n",
    "        return self.revenue\n",
    "    \n",
    "    def set_costs(self):\n",
    "        return self.costs\n",
    "    \n",
    "    def compute_income(self):\n",
    "        return self.revenue - self.costs\n",
    "        \n",
    "    def set_brackets(self):\n",
    "        if self.compute_income() <= 0:\n",
    "            self.brackets = 0\n",
    "        if 0 < self.compute_income() <= 1:\n",
    "            self.brackets = 1\n",
    "        if 1 < self.compute_income() <= 2:\n",
    "            self.brackets = 2\n",
    "        if 2 < self.compute_income() <= 5:\n",
    "            self.brackets = 3\n",
    "        if self.compute_income() > 5:\n",
    "            self.brackets = 4\n",
    "    \n",
    "    def set_percent(self):\n",
    "        if self.compute_income() <= 0:\n",
    "            self.percent = np.array(0)\n",
    "        if 0 < self.compute_income() <= 1:\n",
    "            self.percent = np.array([0.1])\n",
    "        if 1 < self.compute_income() <= 2:\n",
    "            self.percent = np.array([0.1, 0.15])\n",
    "        if 2 < self.compute_income() <= 5:\n",
    "            self.percent = np.array([0.1, 0.15, 0.2])\n",
    "        if self.compute_income() > 5:\n",
    "            self.percent = np.array([0.1, 0.15, 0.2, 0.25])\n",
    "    \n",
    "    def compute_tax(self):\n",
    "        if self.compute_income() <= 0:\n",
    "            return 0\n",
    "        if 0 < self.compute_income() <= 1:\n",
    "            return self.compute_income() * 0.1\n",
    "        if 1 < self.compute_income() <= 2:\n",
    "            return 1 * 0.1 + (self.compute_income() - 1) * 0.15\n",
    "        if 2 < self.compute_income() <= 5:\n",
    "            return 1 * 0.1 + 1 * 0.15 + (self.compute_income() - 2) * 0.20\n",
    "        if self.compute_income() > 5:\n",
    "            return 1 * 0.1 + 1 * 0.15 + 3 * 0.20 + (self.compute_income() - 5) * 0.25\n",
    "    \n",
    "    def compute_average_tax_rate(self):\n",
    "        return self.compute_tax() / self.compute_income()\n",
    "    \n",
    "Firm_1 = Tax(105,95)\n",
    "print ('Firm 1:')\n",
    "print('Income:', Firm_1.compute_income(), 'Million')\n",
    "print('Tax:', Firm_1.compute_tax(), 'Million')\n",
    "print('Rate:', Firm_1.compute_average_tax_rate()*100, 'Percent','\\n')\n",
    "\n",
    "print ('Firm 2:') \n",
    "Firm_2 = Tax(13,10)\n",
    "print('Income:', Firm_2.compute_income(), 'Million')\n",
    "print('Tax:', Firm_2.compute_tax(), 'Million')\n",
    "print('Rate:', Firm_2.compute_average_tax_rate()*100, 'Percent')"
   ]
  },
  {
   "cell_type": "code",
   "execution_count": 1,
   "metadata": {},
   "outputs": [
    {
     "name": "stdout",
     "output_type": "stream",
     "text": [
      "If straight up, just input the number between 0 and 36. O for odd, E for even. R for red, B for black. Choose bet type:30\n",
      "Choose bet amount:50\n",
      "You rolled: 2\n",
      "You lose\n",
      "Current stash: 50 \n",
      "\n",
      "If straight up, just input the number between 0 and 36. O for odd, E for even. R for red, B for black. Choose bet type:R\n",
      "Choose bet amount:30\n",
      "You rolled: red\n",
      "You win\n",
      "Current stash: 230 \n",
      "\n",
      "House earnings: 20 \n",
      "\n"
     ]
    }
   ],
   "source": [
    "###Exercise_2\n",
    "import numpy as np\n",
    "yy=0\n",
    "class Roulette:\n",
    "    \n",
    "    def __init__(self,stash,house_earnings = 0):\n",
    "        self.stash=stash\n",
    "        self.house_earnings = house_earnings\n",
    "\n",
    "        \n",
    "    def roll(self):\n",
    "        x=input('If straight up, just input the number between 0 and 36. O for odd, E for even. R for red, B for black. Choose bet type:')\n",
    "        y=input('Choose bet amount:')\n",
    "        if not y.isdigit():\n",
    "            print('The bet amount should be a number')\n",
    "        elif int(y)<0 or int(y)>self.stash:\n",
    "            print('The bet amount should be positive and no more than your stash')\n",
    "        else:\n",
    "            y=int(y)\n",
    "            if x=='E':\n",
    "                temp=np.random.randint(0,36)\n",
    "                print('You rolled:',temp)\n",
    "                if temp%2==0:\n",
    "                    print('You win')\n",
    "                    self.stash=self.stash+y\n",
    "                    self.house_earnings=self.house_earnings-y\n",
    "                    print('Current stash:',self.stash,'\\n')\n",
    "                else:\n",
    "                    print('You lose')\n",
    "                    self.stash=self.stash-y\n",
    "                    self.house_earnings=self.house_earnings+y\n",
    "                    print('Current stash:',self.stash,'\\n')\n",
    "            elif x=='R':\n",
    "                temp=np.random.randint(0,1)  #0 represents red;1 represents black\n",
    "                if temp==0:\n",
    "                    print('You rolled: red')\n",
    "                    print('You win')\n",
    "                    self.stash=self.stash+y\n",
    "                    self.house_earnings=self.house_earnings-y\n",
    "                    print('Current stash:',self.stash,'\\n')\n",
    "                else:\n",
    "                    print('You rolled: black')\n",
    "                    print('You lose')    \n",
    "                    self.stash=self.stash-y\n",
    "                    self.house_earnings=self.house_earnings+y\n",
    "                    print('Current stash:',self.stash,'\\n')\n",
    "            elif x=='B':\n",
    "                temp=np.random.randint(0,1)  #0 represents red;1 represents black\n",
    "                if temp==0:\n",
    "                    print('You rolled: red')\n",
    "                    print('You lose')\n",
    "                    self.stash=self.stash-y\n",
    "                    self.house_earnings=self.house_earnings+y\n",
    "                    print('Current stash:',self.stash,'\\n')\n",
    "                else:\n",
    "                    print('You rolled: black')\n",
    "                    print('You win')  \n",
    "                    self.stash=self.stash+y\n",
    "                    self.house_earnings=self.house_earnings-y\n",
    "                    print('Current stash:',self.stash,'\\n')\n",
    "            elif x.isdigit(): \n",
    "                if 0<=int(x)<=36:\n",
    "                    temp=np.random.randint(0,36)\n",
    "                    print('You rolled:',temp)\n",
    "                    if temp%2==0:\n",
    "                        print('You lose')\n",
    "                        self.stash=self.stash-y\n",
    "                        self.house_earnings=self.house_earnings+y\n",
    "                        print('Current stash:',self.stash,'\\n')\n",
    "                    else:\n",
    "                        print('You win')\n",
    "                        self.stash=self.stash+y\n",
    "                        self.house_earnings=self.house_earnings-y\n",
    "                        print('Current stash:',self.stash,'\\n')\n",
    "                else:\n",
    "                    print('choose the right bet type')\n",
    "            else:\n",
    "                print('choose the right bet type')\n",
    "                \n",
    "            global yy       \n",
    "            yy=yy+self.house_earnings\n",
    "                \n",
    "    def add_money(self, m):\n",
    "        self.stash += m\n",
    "        \n",
    "    def check_stash(self):\n",
    "        return self.stash\n",
    "    \n",
    "    def check_house_earnings(self):\n",
    "        print ('House earnings:', yy,'\\n')\n",
    "Player_1 = Roulette(100)\n",
    "Player_1.roll()            \n",
    "\n",
    "Player_2 = Roulette(200)\n",
    "Player_2.roll()\n",
    "\n",
    "Player_1.check_house_earnings()"
   ]
  },
  {
   "cell_type": "code",
   "execution_count": 5,
   "metadata": {},
   "outputs": [
    {
     "name": "stdout",
     "output_type": "stream",
     "text": [
      "The empirical cumulative distribution function of this standard normal distribution sample at 0.1 is : 0.534\n",
      "The cumulative distribution function of standard normal distribution at 0.1 is : 0.539827837277\n"
     ]
    }
   ],
   "source": [
    "###Exercise_3\n",
    "class ECDF:\n",
    "    def __init__(self,observations):\n",
    "        self.observations=observations\n",
    "    \n",
    "    def __call__(self, x):\n",
    "        import numpy as np\n",
    "        return np.mean(self.observations<=x) # returns Fn(x) for any  x\n",
    "    \n",
    "\n",
    "from scipy.stats import norm\n",
    "sample=norm.rvs(0,1,1000)\n",
    "x=ECDF(sample)\n",
    "print('The empirical cumulative distribution function of this standard normal distribution sample at 0.1 is :',x.__call__(0.1))\n",
    "print('The cumulative distribution function of standard normal distribution at 0.1 is :',norm.cdf(0.1))"
   ]
  },
  {
   "cell_type": "code",
   "execution_count": 9,
   "metadata": {},
   "outputs": [
    {
     "name": "stdout",
     "output_type": "stream",
     "text": [
      "The value of this polynomial at 2 is: 49\n",
      "The coefficients of its derivative is: [2, 6, 12]\n"
     ]
    }
   ],
   "source": [
    "###Exercise_4\n",
    "class Polynomial:\n",
    "\n",
    "    def __init__(self, coefficients):\n",
    "        self.coefficients = coefficients\n",
    "\n",
    "    def evaluate_the_polynomial(self, x):\n",
    "        y = 0\n",
    "        for i, a in enumerate(self.coefficients):\n",
    "            y += a * x**i\n",
    "        return y\n",
    "\n",
    "    def differenciate_the_polynomial(self):\n",
    "        new_coefficients = []\n",
    "        for i, a in enumerate(self.coefficients):\n",
    "            new_coefficients.append(i * a)\n",
    "        del new_coefficients[0]\n",
    "        self.coefficients = new_coefficients\n",
    "        return new_coefficients\n",
    "    \n",
    "coeff=[1,2,3,4]\n",
    "f=Polynomial(coeff)\n",
    "print('The value of this polynomial at 2 is:',f.evaluate_the_polynomial(2))\n",
    "f.differenciate_the_polynomial()\n",
    "print('The coefficients of its derivative is:',f.coefficients)"
   ]
  },
  {
   "cell_type": "markdown",
   "metadata": {},
   "source": [
    "# Dynamic Programming"
   ]
  },
  {
   "cell_type": "code",
   "execution_count": 1,
   "metadata": {},
   "outputs": [
    {
     "name": "stdout",
     "output_type": "stream",
     "text": [
      "262\n"
     ]
    },
    {
     "data": {
      "image/png": "[encoded data removed]",
      "text/plain": [
       "<matplotlib.figure.Figure at 0x81c1da0>"
      ]
     },
     "metadata": {},
     "output_type": "display_data"
    },
    {
     "name": "stdout",
     "output_type": "stream",
     "text": [
      "Time elapsed:  0.9874098300933838\n"
     ]
    }
   ],
   "source": [
    "#Problem 1\n",
    "import numpy as np\n",
    "import matplotlib.pyplot as plt\n",
    "import time\n",
    "\n",
    "start = time.time()\n",
    "\n",
    "beta = 0.95 # Discount factor\n",
    "num_points = 100 # Number of grid points for W\n",
    "tol = 10**(-5) # Maximum tolerance between two iterations of the value function until we say that the value function converged\n",
    "P11=0.9\n",
    "P12=0.1\n",
    "P21=0.4\n",
    "P22=0.6\n",
    "w_vec = np.reshape(np.linspace(0.1,100,num_points),num_points) # Set up the cake size grid\n",
    "wprime = w_vec-0.005 # Set up the next period cake size grid and adjust by a small amount to deal with the technical problem when the consumer already has the minimum amount of cake\n",
    "value_old1 = np.zeros(num_points) # Initialize the value function guess (current iteration)\n",
    "value_old2 = np.ones(num_points) # Initialize the value function guess (current iteration)\n",
    "value_new1 = np.zeros(num_points) # Initialize the value function guess (next iteration)\n",
    "value_new2 = np.zeros(num_points) # Initialize the value function guess (next iteration)\n",
    "policy = np.zeros(num_points) # Initialize the policy function guess\n",
    "ctr = 0 # Counter for the iterations until convergence\n",
    "\n",
    "while(np.max(np.abs(value_old1-value_new1)) > tol or np.max(np.abs(value_old2-value_new2)) > tol): # Computing the max difference between value function iterations\n",
    "    np.copyto(value_old1,value_new1) # Replace value_old by value_new\n",
    "    np.copyto(value_old2,value_new2) # Replace value_old by value_new\n",
    "    for ii in np.arange(num_points): # Update the value function for each possible\n",
    "        value_new1[ii] = np.max(1*np.log(w_vec[ii]-wprime[wprime<=w_vec[ii]])+beta*P11*value_old1[wprime<=w_vec[ii]]+beta*P12*value_old2[wprime<=w_vec[ii]])\n",
    "        value_new2[ii] = np.max(2*np.log(w_vec[ii]-wprime[wprime<=w_vec[ii]])+beta*P21*value_old1[wprime<=w_vec[ii]]+beta*P22*value_old2[wprime<=w_vec[ii]])\n",
    "        # wprime[wprime<=w_vec[ii]] extracts all elements of wprime such that wprime is less than or equal to the ii element of w_vec\n",
    "        #policy[ii] = np.argmax(np.log(w_vec[ii]-wprime[wprime<=w_vec[ii]])+beta*1.1*value_old[wprime<=w_vec[ii]]) # Find the index when choosing W' to maximize value, subject to W' < W\n",
    "    ctr = ctr+1 # Increment counter\n",
    "\n",
    "print(ctr) # Number of iterations it took to converge\n",
    "\n",
    "# Analytical value function parameters\n",
    "A = 1/(1-beta)**2*np.log(1-beta)+beta/(1-beta)**2*np.log(beta/(1-beta))\n",
    "B = 1/(1-beta)\n",
    "\n",
    "value_analytical = A+B*np.log(w_vec) # Analytical value function evaluated at the same points as the empirical value function\n",
    "\n",
    "plt.plot(w_vec, value_analytical,'k',w_vec, value_new2,'b',w_vec, value_new1, 'r--', linewidth=2)\n",
    "plt.show()\n",
    "\n",
    "end = time.time()\n",
    "print('Time elapsed: ', end-start)"
   ]
  },
  {
   "cell_type": "code",
   "execution_count": null,
   "metadata": {
    "collapsed": true
   },
   "outputs": [],
   "source": []
  }
 ],
 "metadata": {
  "kernelspec": {
   "display_name": "Python 3",
   "language": "python",
   "name": "python3"
  },
  "language_info": {
   "codemirror_mode": {
    "name": "ipython",
    "version": 3
   },
   "file_extension": ".py",
   "mimetype": "text/x-python",
   "name": "python",
   "nbconvert_exporter": "python",
   "pygments_lexer": "ipython3",
   "version": "3.6.3"
  }
 },
 "nbformat": 4,
 "nbformat_minor": 2
}
