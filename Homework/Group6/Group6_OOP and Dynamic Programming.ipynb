{
 "cells": [
  {
   "cell_type": "markdown",
   "metadata": {},
   "source": [
    "# OOP"
   ]
  },
  {
   "cell_type": "markdown",
   "metadata": {},
   "source": [
    "## exercise 1"
   ]
  },
  {
   "cell_type": "code",
   "execution_count": 1,
   "metadata": {},
   "outputs": [
    {
     "name": "stdout",
     "output_type": "stream",
     "text": [
      "Income: 10 Million\n",
      "Tax: 2.1 Million\n",
      "Rate: 21.0 Percent\n",
      "Income: 3 Million\n",
      "Tax: 0.45 Million\n",
      "Rate: 15.0 Percent\n"
     ]
    }
   ],
   "source": [
    "class Tax:\n",
    "    def __init__(self,r,c):\n",
    "        self.revenue,self.costs=r,c\n",
    "    def set_revenue(self,r):\n",
    "        self.revenue=r\n",
    "    def set_costs(self,c):\n",
    "        self.costs=c\n",
    "    def set_brackets(self):\n",
    "        x=[1,2,5]\n",
    "        return x\n",
    "    def set_percent(self):\n",
    "        y=[0.1,0.15,0.2,0.25]\n",
    "        return y\n",
    "    def compute_income(self):\n",
    "        return self.revenue-self.costs\n",
    "    def compute_tax(self):\n",
    "        i=self.compute_income()\n",
    "        x=self.set_brackets()\n",
    "        y=self.set_percent()\n",
    "        if i<=x[0]:\n",
    "            tax=i*y[0]\n",
    "        elif i<=x[1]:\n",
    "                tax=x[0]*y[0]+(i-x[0])*y[1]\n",
    "        elif i<=x[2]:\n",
    "                tax=x[0]*y[0]+(x[1]-x[0])*y[1]+(i-x[1])*y[2]\n",
    "        else:\n",
    "            tax=x[0]*y[0]+(x[1]-x[0])*y[1]+(x[2]-x[1])*y[2]+(i-x[2])*y[3]\n",
    "        return tax\n",
    "    def compute_average_tax_rate(self):\n",
    "        a=self.compute_tax()/self.compute_income()\n",
    "        r=round(a,2)\n",
    "        return r\n",
    "Firm_1=Tax(105,95)\n",
    "print('Income:', Firm_1.compute_income(), 'Million')\n",
    "print('Tax:', Firm_1.compute_tax(), 'Million')\n",
    "print('Rate:', Firm_1.compute_average_tax_rate()*100, 'Percent')\n",
    "Firm_2 = Tax(13,10) \n",
    "print('Income:', Firm_2.compute_income(), 'Million') \n",
    "print('Tax:', Firm_2.compute_tax(), 'Million') \n",
    "print('Rate:', Firm_2.compute_average_tax_rate()*100, 'Percent')"
   ]
  },
  {
   "cell_type": "markdown",
   "metadata": {},
   "source": [
    "## exercise 2"
   ]
  },
  {
   "cell_type": "code",
   "execution_count": 3,
   "metadata": {},
   "outputs": [
    {
     "name": "stdout",
     "output_type": "stream",
     "text": [
      "If straight up, just input the number between 0 and 36. O for odd, E for even. R for red, B for black.\n",
      "Choose bet type: 1\n",
      "Choose bet amount: 1\n",
      "You rolled  2\n",
      "You lose =(\n",
      "Current stash:  99\n",
      "House earnings from player1:  1\n",
      "If straight up, just input the number between 0 and 36. O for odd, E for even. R for red, B for black.\n",
      "Choose bet type: 1\n",
      "Choose bet amount: 1\n",
      "You rolled  23\n",
      "You lose =(\n",
      "Current stash:  199\n",
      "House earnings from player2:  1\n",
      "House earnings:  2\n"
     ]
    }
   ],
   "source": [
    "import random\n",
    "class Roulette:\n",
    "    def __init__(self,s):\n",
    "        self.stash=int(s)\n",
    "        self.type=0\n",
    "        self.amount=0\n",
    "        self.current=int(s)\n",
    "    def roll(self):\n",
    "        print(\"If straight up, just input the number between 0 and 36. O for odd, E for even. R for red, B for black.\")\n",
    "        self.type=input(\"Choose bet type: \")\n",
    "        if self.type not in ('0','1','2','3','4','5','6','7','8','9','10','11','12','13','14','15','16','17','18','19','20',\n",
    "                             '21','22','23','24','25','26','27','28','29','30','31','32','33','34','35','36','O','E',\n",
    "                            'B','R'):\n",
    "            print(\"You input a wrong number or letter\")\n",
    "            self.current=self.current-100\n",
    "        else:\n",
    "            amount=input(\"Choose bet amount: \")\n",
    "            self.amount=int(amount)\n",
    "            roll=random.randint(0,36)\n",
    "            roll1=(roll%2==0,'E','O')\n",
    "            roll2=(roll in (1,3,5,7,9,12,14,16,18,19,21,23,25,27,30,32,34,36),'R','B')\n",
    "            print('You rolled ',roll)\n",
    "            if self.type in ('E','O'):\n",
    "                if self.type==roll1 and roll>0 :\n",
    "                    print(\"You win\")\n",
    "                    self.current=self.current+self.amount \n",
    "                else:\n",
    "                    print(\"You lose =(\")\n",
    "                    self.current=self.current-self.amount\n",
    "            elif self.type in ('R','B'):\n",
    "                if self.type==roll2 and roll>0:\n",
    "                    print(\"You win\")\n",
    "                    self.current=self.current+self.amount \n",
    "                else:\n",
    "                    print(\"You lose =(\")\n",
    "                    self.current=self.current-self.amount\n",
    "            elif int(self.type) in range(0,36):\n",
    "                if int(self.type)==roll:\n",
    "                    print(\"You win\")\n",
    "                    self.current=self.current+self.amount\n",
    "                else:\n",
    "                    print(\"You lose =(\")\n",
    "                    self.current=self.current-self.amount \n",
    "            else:\n",
    "                print(\"You lose =(\")\n",
    "                self.current=self.current-self.amount\n",
    "        print('Current stash: ',self.current)\n",
    "    def check_house_earnings(self):\n",
    "        return self.stash-self.current \n",
    "    def check_stash(self):\n",
    "        return self.current\n",
    "    def add_money(self,y):\n",
    "        self.stash+=y\n",
    "        self.current+=y\n",
    "Player_1 = Roulette(100)\n",
    "Player_1.roll()\n",
    "print('House earnings from player1: ',Player_1.check_house_earnings())\n",
    "Player_2 = Roulette(200)\n",
    "Player_2.roll()\n",
    "print('House earnings from player2: ',Player_2.check_house_earnings())\n",
    "total=Player_1.check_house_earnings()+Player_2.check_house_earnings()\n",
    "print('House earnings: ',total) \n"
   ]
  },
  {
   "cell_type": "markdown",
   "metadata": {},
   "source": [
    "## exercise 3"
   ]
  },
  {
   "cell_type": "code",
   "execution_count": 7,
   "metadata": {
    "collapsed": true
   },
   "outputs": [],
   "source": [
    "class ECDF:\n",
    "    def __init__( self, observations):\n",
    "        self. observations = observations\n",
    "    def __call__( self, x):\n",
    "        i=0\n",
    "        for o in self. observations:\n",
    "            if o <= x:\n",
    "                i=i+ 1\n",
    "        return i / len( self. observations)"
   ]
  },
  {
   "cell_type": "code",
   "execution_count": 8,
   "metadata": {},
   "outputs": [
    {
     "name": "stdout",
     "output_type": "stream",
     "text": [
      "0.45\n",
      "0.4995\n"
     ]
    }
   ],
   "source": [
    "from random import uniform\n",
    "n=100\n",
    "X=[uniform(0,1) for i in range(n)]\n",
    "f=ECDF(X)\n",
    "print(f(0.5))\n",
    "N=100000\n",
    "Y=[uniform(0,1) for i in range(N)]\n",
    "f=ECDF(Y)\n",
    "print(f(0.5))"
   ]
  },
  {
   "cell_type": "markdown",
   "metadata": {},
   "source": [
    "## exercise 4"
   ]
  },
  {
   "cell_type": "markdown",
   "metadata": {},
   "source": [
    "### solution 1"
   ]
  },
  {
   "cell_type": "code",
   "execution_count": 9,
   "metadata": {
    "collapsed": true
   },
   "outputs": [],
   "source": [
    "class Polynomial:\n",
    "    def __init__(self,coefficients):\n",
    "        self.coefficients = coefficients\n",
    "    def __call__(self,x):\n",
    "        y=0\n",
    "        for i, a in enumerate(self.coefficients):\n",
    "            y =y+ a * x ** i\n",
    "        return y\n",
    "    def differentiate(self):\n",
    "        new_coefficients = []\n",
    "        for i, a in enumerate(self. coefficients):\n",
    "            new_coefficients. append(i * a)\n",
    "        del new_coefficients[0]\n",
    "        self. coefficients = new_coefficients\n",
    "        return new_coefficients"
   ]
  },
  {
   "cell_type": "markdown",
   "metadata": {},
   "source": [
    "if cofficients=(1,2,3),x=1"
   ]
  },
  {
   "cell_type": "code",
   "execution_count": 11,
   "metadata": {},
   "outputs": [
    {
     "data": {
      "text/plain": [
       "6"
      ]
     },
     "execution_count": 11,
     "metadata": {},
     "output_type": "execute_result"
    }
   ],
   "source": [
    "p= Polynomial((1,2,3))\n",
    "p(1)"
   ]
  },
  {
   "cell_type": "markdown",
   "metadata": {},
   "source": [
    "Differentiate the polynomia"
   ]
  },
  {
   "cell_type": "code",
   "execution_count": 12,
   "metadata": {},
   "outputs": [
    {
     "data": {
      "text/plain": [
       "8"
      ]
     },
     "execution_count": 12,
     "metadata": {},
     "output_type": "execute_result"
    }
   ],
   "source": [
    "q=p.differentiate()\n",
    "p=Polynomial(q)\n",
    "p(1)"
   ]
  },
  {
   "cell_type": "markdown",
   "metadata": {},
   "source": [
    "### solution 2"
   ]
  },
  {
   "cell_type": "code",
   "execution_count": 14,
   "metadata": {
    "collapsed": true
   },
   "outputs": [],
   "source": [
    "class Polynomial:  \n",
    "    def __init__(self,coeff,x):\n",
    "        self.coeff = coeff\n",
    "        self.x = x\n",
    "        \n",
    "    def set_p(self):\n",
    "        p = 0\n",
    "        for i,a in enumerate(coeff):\n",
    "            p=a*self.x**i+p\n",
    "        return p\n",
    "    def Diff(self):\n",
    "        coeff.pop(0)\n",
    "        y = 0\n",
    "        for i,a in enumerate(coeff):\n",
    "            y=(i+1)*a*self.x**i+y\n",
    "        return y"
   ]
  },
  {
   "cell_type": "code",
   "execution_count": 23,
   "metadata": {},
   "outputs": [
    {
     "data": {
      "text/plain": [
       "6"
      ]
     },
     "execution_count": 23,
     "metadata": {},
     "output_type": "execute_result"
    }
   ],
   "source": [
    "coeff=[1,2,3]\n",
    "x=1\n",
    "p=Polynomial(coeff,x)\n",
    "p.set_p()"
   ]
  },
  {
   "cell_type": "code",
   "execution_count": 24,
   "metadata": {},
   "outputs": [
    {
     "data": {
      "text/plain": [
       "8"
      ]
     },
     "execution_count": 24,
     "metadata": {},
     "output_type": "execute_result"
    }
   ],
   "source": [
    "p.Diff()"
   ]
  },
  {
   "cell_type": "markdown",
   "metadata": {},
   "source": [
    "# Dynamic Programming"
   ]
  },
  {
   "cell_type": "markdown",
   "metadata": {},
   "source": [
    "## exercise 1"
   ]
  },
  {
   "cell_type": "code",
   "execution_count": 2,
   "metadata": {},
   "outputs": [
    {
     "data": {
      "image/png": "[encoded data removed]",
      "text/plain": [
       "<matplotlib.figure.Figure at 0x1c1f9829780>"
      ]
     },
     "metadata": {},
     "output_type": "display_data"
    },
    {
     "name": "stdout",
     "output_type": "stream",
     "text": [
      "Time elapsed:  3.5631046295166016\n"
     ]
    }
   ],
   "source": [
    "import numpy as np\n",
    "import matplotlib.pyplot as plt\n",
    "import time\n",
    "\n",
    "start = time.time()\n",
    "\n",
    "beta = 0.95 \n",
    "num_points = 100 \n",
    "tol = 10**(-5) \n",
    "\n",
    "w_vec = np.reshape(np.linspace(0.1,100,num_points),num_points) # Set up the cake size grid\n",
    "wprime = w_vec-0.005\n",
    "value_old = np.ones(num_points) \n",
    "value_new = np.zeros(num_points) \n",
    "VALUE_old = np.ones(num_points) \n",
    "VALUE_new = np.zeros(num_points)\n",
    "policy = np.zeros(num_points)# Initialize the policy function guess\n",
    "POLICY = np.zeros(num_points)\n",
    "ctr = 0 # Counter for the iterations until convergence\n",
    "\n",
    "while(np.max(np.abs(value_old-value_new)) > tol and np.max(np.abs(VALUE_old-VALUE_new))>tol): \n",
    "    np.copyto(value_old,value_new)\n",
    "    np.copyto(VALUE_old,VALUE_new)\n",
    "    for ii in np.arange(num_points): \n",
    "        value_new[ii] = np.max(np.log(w_vec[ii]-wprime[wprime<=w_vec[ii]])+0.9*beta*value_old[wprime<=w_vec[ii]]+0.1*beta*VALUE_old[wprime<=w_vec[ii]]) \n",
    "        VALUE_new[ii] = np.max(2*np.log(w_vec[ii]-wprime[wprime<=w_vec[ii]])+0.6*beta*value_old[wprime<=w_vec[ii]]+0.4*beta*VALUE_old[wprime<=w_vec[ii]]) \n",
    "        policy[ii] = np.argmax(np.log(w_vec[ii]-wprime[wprime<=w_vec[ii]])+0.9*beta*value_old[wprime<=w_vec[ii]]+0.1*beta*VALUE_old[wprime<=w_vec[ii]])\n",
    "        POLICY[ii] = np.argmax(2*np.log(w_vec[ii]-wprime[wprime<=w_vec[ii]])+0.6*beta*value_old[wprime<=w_vec[ii]]+0.4*beta*VALUE_old[wprime<=w_vec[ii]]) \n",
    "plt.plot(w_vec, value_new, 'b', linewidth=2)\n",
    "plt.plot(w_vec, VALUE_new, 'r', linewidth=2)\n",
    "plt.show()\n",
    "end = time.time()\n",
    "print('Time elapsed: ', end-start)"
   ]
  },
  {
   "cell_type": "code",
   "execution_count": null,
   "metadata": {
    "collapsed": true
   },
   "outputs": [],
   "source": []
  }
 ],
 "metadata": {
  "kernelspec": {
   "display_name": "Python 3",
   "language": "python",
   "name": "python3"
  },
  "language_info": {
   "codemirror_mode": {
    "name": "ipython",
    "version": 3
   },
   "file_extension": ".py",
   "mimetype": "text/x-python",
   "name": "python",
   "nbconvert_exporter": "python",
   "pygments_lexer": "ipython3",
   "version": "3.6.3"
  }
 },
 "nbformat": 4,
 "nbformat_minor": 2
}
