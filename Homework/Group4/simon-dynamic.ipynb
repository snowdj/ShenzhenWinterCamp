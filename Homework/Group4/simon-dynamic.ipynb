{
 "cells": [
  {
   "cell_type": "markdown",
   "metadata": {},
   "source": [
    "# Introduction to Dynamic Programming"
   ]
  },
  {
   "cell_type": "markdown",
   "metadata": {},
   "source": [
    "## Overview\n",
    "\n",
    "**Dynamic programming** is a technique to solve a complex problem by breaking it down into simpler subproblem.\n",
    "\n",
    "Dynamic programming is used in many different fields such as mathematics, computer science, operations, economics, finance, etc...\n",
    "\n",
    "In economics and finance, dynamic programming is essentially a method to solve a recursive formulation of an optimization problem."
   ]
  },
  {
   "cell_type": "markdown",
   "metadata": {},
   "source": [
    "## Examples\n",
    "\n",
    "There are several examples you might have heard about before:\n",
    "- Shortest path problem - what is the shortest path to travel while visiting all provincial capitals in China?\n",
    "- Tower of Hanoi puzzle\n",
    "<img src=\"Hanoi.gif\">\n",
    "- Cake eating problem - this is the example we will start with"
   ]
  },
  {
   "cell_type": "markdown",
   "metadata": {},
   "source": [
    "## Cake eating problem\n",
    "\n",
    "- Suppose there is a cake with initial size $W_{1}$ and time is discrete and finite where $t=1,2,\\ldots,T$\n",
    "- Let $c_{t}$ be consumption in period $t$ and $u(c_{t})$ be the utility of consumption\n",
    "- Assume the standard Inada conditions on utility\n",
    "  - $u(0)=0$\n",
    "  - $u$ is continuously differentiable\n",
    "  - $u'(c)>0$\n",
    "  - $u''(c)<0$\n",
    "  - $\\lim_{c\\rightarrow0}u'(c)=\\infty$\n",
    "  - $\\lim_{c\\rightarrow\\infty}u'(c)=0$\n",
    "- Lifetime utility is\n",
    "$$\\sum_{t=1}^{T}\\beta^{t-1}u(c_{t})$$\n",
    "  where $\\beta\\in[0,1]$ is the discount factor\n",
    "- The cake does not grow or spoil so the law of motion for the cake over time is\n",
    "$$W_{t+1}=W_{t}-c_{t}$$\n",
    "- Let's solve this **sequence problem**\n",
    "- The constraints can be combined so that\n",
    "$$\\sum_{t=1}^{T}c_{t}+W_{T+1}=W_{1}$$\n",
    "- We also have non-negativity constraints $c_{t}\\geq0$ for $t=1,2,\\ldots,T$ and $W_{T+1}\\geq0$\n",
    "- Due to the Inada conditions on $u$, we only need to consider the non-negativity condition on $W_{T+1}$\n",
    "- An **Euler equation** is essentially an intertemporal **first order condition** (**necessary** condition)\n",
    "$$u'(c_{t})=\\beta u'(c_{t+1})$$\n",
    "- However, the Euler equation is not **sufficient** - why?"
   ]
  },
  {
   "cell_type": "markdown",
   "metadata": {},
   "source": [
    "## Solution\n",
    "- The solution is pinned down by $W_{1}$, $W_{T+1}=0$, and the set of Euler equations\n",
    "- Let the solution be denoted by $V_{T}(W_{1})$\n",
    "- Suppose we extend the problem so that there is a period 0 and initial cake size $W_{0}$\n",
    "- The dynamic programming approach converts a multi-period problem into a two-period or recursive problem\n",
    "- With our original problem, we have the **value function**\n",
    "$$\\underset{c_{0}}{\\max}\\{u(c_{0})+\\beta V_{T}(W_{1})\\}$$\n",
    "  subject to\n",
    "$$W_{1}=W_{0}-c_{0}$$\n",
    "- The solution of the problem is then determined by $c_{0}$, $W_{1}$, and $V_{T}(W_{1})$\n",
    "- Therefore, it doesn't matter how the cake is consumed after period 0 as long as the agent is making optimal decisions\n",
    "- **Principle of optimality**: an optimal policy has the property that whatever the initial state and initial decision are, the remaining decisions must constitute an optimal policy with regard to the state resulting from the first decision (see Bellman, 1957)\n",
    "- We are, in fact, pretending that we know $V_{T}(W_{1})$\n",
    "- Assuming $V_{T}(W_{1})$ is differentiable, we have $u'(c_{0})=\\beta V_{T}'(W_{1})$ and $V_{T}'(W_{1})=u'(c_{1})=\\beta^{t}u'(c_{t+1})$"
   ]
  },
  {
   "cell_type": "markdown",
   "metadata": {},
   "source": [
    "## Example\n",
    "- Assume $u(c)=\\log(c)$ and $T=1$\n",
    "  - $V_{1}(W_{1})=\\log(W_{1})$\n",
    "\n",
    "\n",
    "- Now assume $T=2$\n",
    "  - $1/c_{1}=\\beta/c_{2}$ and $W_{1}=c_{1}+c_{2}$\n",
    "  - $c_{1}=W_{1}/(1+\\beta)$ and $c_{2}=\\beta W_{1}/(1+\\beta)$\n",
    "  - Guess that $V_{2}(W_{1})=\\log(c_{1})+\\beta\\log(c_{2})$ has the form $A_{2}+B_{2}\\log(W_{1})$ where $A_{2}$ and $B_{2}$ are constants\n",
    "  - $A_{2}=\\log(1/(1+\\beta))+\\beta\\log(\\beta/(1+\\beta))$ and $B_{2}=(1+\\beta)$\n",
    "\n",
    "\n",
    "- Now assume $T=3$\n",
    "  - $V_{3}(W_{1})=\\underset{W_{2}}{\\max}\\{\\log(W_{1}-W_{2})+\\beta V_{2}(W_{2})\\}$\n",
    "  - F.O.C. w.r.t. $W_{2}$ is $1/c_{1}=\\beta V_{2}'(W_{2})$\n",
    "  - The F.O.C. simplifies to $\\frac{1}{c_{1}}=\\beta\\frac{B_{2}}{W_{2}}=\\frac{\\beta}{c_{2}}$ (the consumption in the second-period of the three-period problem is the same as the consumption in the first period of the two-period problem)\n",
    "  - Also, $1/c_{2}=\\beta/c_{3}$ from the two-period problem\n",
    "  - With the resource constraint we have $c_{1}=W_{1}/(1+\\beta+\\beta^{2})$, $c_{2}=\\beta W_{1}/(1+\\beta+\\beta^{2})$, $c_{3}=\\beta^{2}W_{1}/(1+\\beta+\\beta^{2})$\n",
    "  - $V_{3}(W_{1})=A_{3}+B_{3}\\log(W_{1})$ where $A_{3}=\\log(1/(1+\\beta+\\beta^{2}))+\\beta\\log(\\beta/(1+\\beta+\\beta^{2}))+\\beta^{2}\\log(\\beta^{2}/(1+\\beta+\\beta^{2}))$ and $B_{3}=(1+\\beta+\\beta^{2})$"
   ]
  },
  {
   "cell_type": "markdown",
   "metadata": {},
   "source": [
    "## Infinite horizon\n",
    "\n",
    "- Consider the infinite horizon sequence problem:\n",
    "$$\\underset{\\{c_{t}\\}_{0}^{\\infty},\\{W_{t}\\}_{1}^{\\infty}}{\\max}\\sum_{t=0}^{\\infty}\\beta^{t}u(c_{t})$$\n",
    "  with **transition equation**\n",
    "$$W_{t+1}=W_{t}-c_{t}$$\n",
    "- We can convert the sequence problem into a recursive or dynamic programming problem:\n",
    "$$V(W)=\\underset{c}{\\max}\\{u(c)+\\beta V(W-c)\\}$$\n",
    "  with transition equation\n",
    "$$W'=W-c$$"
   ]
  },
  {
   "cell_type": "markdown",
   "metadata": {},
   "source": [
    "## The functional equation\n",
    "\n",
    "- In the previous dynamic programming problem, $W$ is the **state variable** and $c$ is the **control variable**\n",
    "- We can alternatively and equivalently write the dynamic problem as:\n",
    "$$V(W)=\\underset{W'}{\\max}\\{u(W-W')+\\beta V(W')\\}$$\n",
    "- The equation above is known as a **functional equation** or a **Bellman equation** - the unknown is the function itself!"
   ]
  },
  {
   "cell_type": "markdown",
   "metadata": {},
   "source": [
    "## Properties of value functions\n",
    "\n",
    "- If the value function exists, then we can take the F.O.C. w.r.t. to $c$ to get\n",
    "$$u'(c)=\\beta V'(W')$$\n",
    "- We also have\n",
    "$$V'(W)=u'(c)$$\n",
    "  and we can iterate to get\n",
    "$$V'(W')=u'(c')$$\n",
    "- Therefore the Euler equation is\n",
    "$$u'(c)=\\beta u'(c')$$"
   ]
  },
  {
   "cell_type": "markdown",
   "metadata": {},
   "source": [
    "## Policy functions\n",
    "\n",
    "- After we solve the value function, we can express the choice of consumption or next period cake size as a **policy function** or a **decision rule**\n",
    "$$c=\\mathcal{C}(W)$$\n",
    "  or\n",
    "$$W'=\\mathcal{W}(W)$$\n",
    "- We can write the Euler equation in terms of the policy function\n",
    "$$u'(\\mathcal{C}(W))=\\beta u'(\\mathcal{C}(W-\\mathcal{C}(W)))$$"
   ]
  },
  {
   "cell_type": "markdown",
   "metadata": {},
   "source": [
    "## Infinite horizon cake eating problem\n",
    "\n",
    "- Guess that the value function takes the form\n",
    "$$V(W)=A+B\\log(W)$$\n",
    "- Then the following must hold\n",
    "$$A+B\\log(W)=\\underset{W'}{\\max}\\{\\log(W-W')+\\beta(A+B\\log(W'))\\}$$\n",
    "- Let's solve this by hand\n",
    "- Take the first order condition and simplify to get\n",
    "$$W'=\\frac{\\beta B}{1+\\beta B}W$$\n",
    "- Plug back W' to have\n",
    "$$A+B\\log(W)=\\log\\frac{W}{1+\\beta B}+\\beta\\left(A+B\\log\\frac{\\beta BW}{1+\\beta B}\\right)$$\n",
    "- Solve for $A$ and $B$ and simplify\n",
    "$$A = \\frac{1}{(1-\\beta)^{2}}\\log(1-\\beta)+\\frac{\\beta}{(1-\\beta)^{2}}\\log\\frac{\\beta}{1-\\beta}$$\n",
    "$$B = \\frac{1}{1-\\beta}$$\n",
    "\n",
    "- Then let's solve this on the computer!"
   ]
  },
  {
   "cell_type": "code",
   "execution_count": 9,
   "metadata": {},
   "outputs": [
    {
     "name": "stdout",
     "output_type": "stream",
     "text": [
      "258\n"
     ]
    },
    {
     "data": {
      "image/png": "[encoded data removed]",
      "text/plain": [
       "<matplotlib.figure.Figure at 0x1de6e390be0>"
      ]
     },
     "metadata": {},
     "output_type": "display_data"
    },
    {
     "name": "stdout",
     "output_type": "stream",
     "text": [
      "Time elapsed:  0.4742724895477295\n"
     ]
    }
   ],
   "source": [
    "import numpy as np\n",
    "import matplotlib.pyplot as plt\n",
    "import time\n",
    "\n",
    "start = time.time()\n",
    "\n",
    "beta = 0.95 # Discount factor\n",
    "num_points = 100 # Number of grid points for W\n",
    "tol = 10**(-5) # Maximum tolerance between two iterations of the value function until we say that the value function converged\n",
    "\n",
    "w_vec = np.reshape(np.linspace(0.1,100,num_points),num_points) # Set up the cake size grid\n",
    "wprime = w_vec-0.005 # Set up the next period cake size grid and adjust by a small amount to deal with the technical problem when the consumer already has the minimum amount of cake\n",
    "value_old = np.ones(num_points) # Initialize the value function guess (current iteration)\n",
    "value_new = np.zeros(num_points) # Initialize the value function guess (next iteration)\n",
    "policy = np.zeros(num_points) # Initialize the policy function guess\n",
    "ctr = 0 # Counter for the iterations until convergence\n",
    "\n",
    "while(np.max(np.abs(value_old-value_new)) > tol): # Computing the max difference between value function iterations\n",
    "    np.copyto(value_old,value_new) # Replace value_old by value_new\n",
    "    for ii in np.arange(num_points): # Update the value function for each possible\n",
    "        value_new[ii] = np.max(np.log(w_vec[ii]-wprime[wprime<=w_vec[ii]])+beta*value_old[wprime<=w_vec[ii]]) # Find the amount when choosing W' to maximize value, subject to W' < W\n",
    "        # wprime[wprime<=w_vec[ii]] extracts all elements of wprime such that wprime is less than or equal to the ii element of w_vec\n",
    "        policy[ii] = np.argmax(np.log(w_vec[ii]-wprime[wprime<=w_vec[ii]])+beta*value_old[wprime<=w_vec[ii]]) # Find the index when choosing W' to maximize value, subject to W' < W\n",
    "    ctr = ctr+1 # Increment counter\n",
    "\n",
    "print(ctr) # Number of iterations it took to converge\n",
    "\n",
    "# Analytical value function parameters\n",
    "A = 1/(1-beta)**2*np.log(1-beta)+beta/(1-beta)**2*np.log(beta/(1-beta))\n",
    "B = 1/(1-beta)\n",
    "\n",
    "value_analytical = A+B*np.log(w_vec) # Analytical value function evaluated at the same points as the empirical value function\n",
    "\n",
    "plt.plot(w_vec, value_analytical, 'b', w_vec, value_new, 'r--', linewidth=2)\n",
    "plt.show()\n",
    "\n",
    "end = time.time()\n",
    "print('Time elapsed: ', end-start)"
   ]
  },
  {
   "cell_type": "markdown",
   "metadata": {
    "collapsed": true
   },
   "source": [
    "## Exercises"
   ]
  },
  {
   "cell_type": "markdown",
   "metadata": {
    "collapsed": true
   },
   "source": [
    "## Problem 1\n",
    "\n",
    "Consider a stochastic version of the infinite cake eating problem. There are many ways to introduce shocks to a dynamic program and we just explore one way in this problem. Suppose there are 'taste' shocks that take on one of two values $\\epsilon \\in \\{\\epsilon_{l}=1,\\epsilon_{h}=2\\}$.  There is a Markov transition matrix between the taste shocks which is given by,\n",
    "\n",
    "$$\\mathcal{E}=\\left[\\begin{array}{cc}\n",
    "0.9 & 0.1\\\\\n",
    "0.4 & 0.6\n",
    "\\end{array}\\right].$$\n",
    "\n",
    "The Bellman equation is then,\n",
    "\n",
    "$$V(W,\\epsilon)=\\underset{W'}{\\max}\\{\\epsilon u(W-W')+\\beta \\text{E}_{\\epsilon' \\mid \\epsilon}V(W',\\epsilon')\\}$$\n",
    "\n",
    "1. Solve for the value function and decision rules\n",
    "2. Plot the value function and decision rules\n",
    "3. Interpret the value function and decision rules"
   ]
  },
  {
   "cell_type": "code",
   "execution_count": 13,
   "metadata": {},
   "outputs": [],
   "source": [
    "# Problem 1\n",
    "import numpy as np\n",
    "from scipy.optimize import fminbound\n",
    "\n",
    "\n",
    "def u(c):\n",
    "    \n",
    "    return np.log(c)\n",
    "\n",
    "\n",
    "ϵ = np.array([1.0, 2.0])\n",
    "P = np.array([[0.9, 0.1], [0.4, 0.6]])\n",
    "\n",
    "def bellman_operator(w, grid, u, ϵ, β, P):\n",
    "    \n",
    "    # Linear interpolation of w\n",
    "    v_func = lambda x: np.interp(x, grid, w)\n",
    "    \n",
    "    # Storing space \n",
    "    value_function = np.zeros((grid.size, ϵ.size))\n",
    "    c_star = np.zeros((grid.size, ϵ.size))\n",
    "    \n",
    "    for i, w in enumerate(grid):\n",
    "        for j in range(ϵ.size):\n",
    "            objective = lambda c : - (ϵ[j] * u(c) + (β * ϵ * v_func(w - c) @ P[:, j]))\n",
    "            c_star[i, j] = fminbound(objective, 1e-10, w)\n",
    "            value_function[i, j] = objective(c_star[i, j])\n",
    "    return value_function, c_star\n",
    "        \n",
    "def supremum_norm(function1, function2):\n",
    "    return (np.abs(function1 - function2)).max()\n",
    "        \n",
    "def compute_fixed_point(bellman_operator, initial_w, TOL, MAXITER, grid, β, u, ϵ, P):\n",
    "    \n",
    "    # Iterate to find fixed point\n",
    "    for i in range(MAXITER):\n",
    "        Lw, c_star, = bellman_operator(initial_w, grid, u, ϵ, β, P)\n",
    "        dist = supremum_norm(Lw, initial_w)\n",
    "        initial_w = Lw\n",
    "        if dist < TOL:\n",
    "            break\n",
    "    return initial_w"
   ]
  },
  {
   "cell_type": "markdown",
   "metadata": {},
   "source": [
    "## Problem 2\n",
    "\n",
    "Suppose we have a heterogeneous firm model with the following profit function:\n",
    "\n",
    "$$\\pi_{it}=z_{it}k_{it}^{\\theta}$$\n",
    "\n",
    "where $\\pi_{it}$ is the profit, $z_{it}\\in Z$ is the productivity shock, $k_{it}\\in[0,\\bar{k}]\\equiv K$ is the capital stock, and $\\theta<1$ is a “returns-to-scale” parameter. The dividend of firm equals:\n",
    "\n",
    "$$d_{it}=\\pi_{it}+(1-\\delta)k_{it}-k_{i,t+1}\\geq 0$$\n",
    "\n",
    "where $\\delta$ is the depreciation rate. Firms maximize the expected discounted dividend stream, i.e.\n",
    "\n",
    "$$\\max_{k_{it}}\\sum_{t=0}^{\\infty}\\beta^{t}d_{it}.$$\n",
    "\n",
    "To solve the model, we set $\\theta=0.5$, $\\delta=0.1$, and $\\beta=0.95$. The productivity shock has three levels $z_{l}=1$, $z_{m}=2$, $z_{h}=7$, and the transition matrix for the productivity shock is given by,\n",
    "\n",
    "$$\\mathcal{Z}=\\left[\\begin{array}{ccc}\n",
    "0.9 & 0.05 & 0.05\\\\\n",
    "0.15 & 0.7 & 0.15\\\\\n",
    "0.1 & 0.1 & 0.8\n",
    "\\end{array}\\right].$$\n",
    "\n",
    "For example $\\text{Pr}(z_{l}\\mid z_{l})=0.9$ and $\\text{Pr}(z_{m}\\mid z_{l})=0.05.$\n",
    "\n",
    "1. State the recursive formulation\n",
    "2. Solve the nonstochastic version of the problem above where the firm receives $z_{l}=1$ forever\n",
    "3. Solve the problem as stated above and plot the value function over $K$ for each element of $Z$\n",
    "4. Plot the decision rules\n",
    "5. Simulate an example firm for 100 periods\n",
    "6. Speed up the code and report the time improvement"
   ]
  },
  {
   "cell_type": "code",
   "execution_count": null,
   "metadata": {
    "collapsed": true
   },
   "outputs": [],
   "source": []
  }
 ],
 "metadata": {
  "kernelspec": {
   "display_name": "Python 3",
   "language": "python",
   "name": "python3"
  },
  "language_info": {
   "codemirror_mode": {
    "name": "ipython",
    "version": 3
   },
   "file_extension": ".py",
   "mimetype": "text/x-python",
   "name": "python",
   "nbconvert_exporter": "python",
   "pygments_lexer": "ipython3",
   "version": "3.6.1"
  }
 },
 "nbformat": 4,
 "nbformat_minor": 2
}
