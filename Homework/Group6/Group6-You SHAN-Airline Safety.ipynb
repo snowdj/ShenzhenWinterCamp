{
 "cells": [
  {
   "cell_type": "markdown",
   "metadata": {},
   "source": [
    "# Airline safety"
   ]
  },
  {
   "cell_type": "markdown",
   "metadata": {},
   "source": [
    "## 1.Topic: Should Travelers Avoid Flying Airlines That Have Had Crashes in the Past?"
   ]
  },
  {
   "cell_type": "markdown",
   "metadata": {},
   "source": [
    "When aircraft crashes occur, people tend to avoid choosing the airline's aircraft. Some academic studies have found that high-profile crashes can shift passenger demand away from the airlines involved in the disasters. However, some people argue that their decisions may not be rationnal and there might be no use in preventing from meeting fatal crashes.\n",
    "\n",
    "The paper study this by looking at safety records for major commercial airlines over the past 30 years, which is based on the Aviation Safety Network’s database. We use the method from Nate Silver in 2014,which break the 30-year period down into two halves: first from 1985 to 1999, and then from 2000 to 2014. \n",
    "\n",
    "Then the paper build multivariate linear models to indentify the correlation between the both.\n",
    "\n",
    "In the end, We find a significant positive correlation between air accidents and fatal accidents from 85 to 99, as well as air accidents and fatal accidents from 00 to 14. So it is right for people to reject airlines that have had accident"
   ]
  },
  {
   "cell_type": "markdown",
   "metadata": {},
   "source": [
    "# 2.Data"
   ]
  },
  {
   "cell_type": "markdown",
   "metadata": {},
   "source": [
    "Data include airlines, available seat kilometers flown every week, total number of incidents in 1985–1999 and 2000-2014, total number of Fatal accidents in 1985–1999 and 2000-2014,total number of fatalities in 1985–1999 and in 2000-2014."
   ]
  },
  {
   "cell_type": "code",
   "execution_count": 3,
   "metadata": {},
   "outputs": [
    {
     "data": {
      "text/html": [
       "<div>\n",
       "<style>\n",
       "    .dataframe thead tr:only-child th {\n",
       "        text-align: right;\n",
       "    }\n",
       "\n",
       "    .dataframe thead th {\n",
       "        text-align: left;\n",
       "    }\n",
       "\n",
       "    .dataframe tbody tr th {\n",
       "        vertical-align: top;\n",
       "    }\n",
       "</style>\n",
       "<table border=\"1\" class=\"dataframe\">\n",
       "  <thead>\n",
       "    <tr style=\"text-align: right;\">\n",
       "      <th></th>\n",
       "      <th>airline</th>\n",
       "      <th>avail_seat_km_per_week</th>\n",
       "      <th>incidents_85_99</th>\n",
       "      <th>fatal_accidents_85_99</th>\n",
       "      <th>fatalities_85_99</th>\n",
       "      <th>incidents_00_14</th>\n",
       "      <th>fatal_accidents_00_14</th>\n",
       "      <th>fatalities_00_14</th>\n",
       "    </tr>\n",
       "  </thead>\n",
       "  <tbody>\n",
       "    <tr>\n",
       "      <th>0</th>\n",
       "      <td>Aer Lingus</td>\n",
       "      <td>320906734</td>\n",
       "      <td>2</td>\n",
       "      <td>0</td>\n",
       "      <td>0</td>\n",
       "      <td>0</td>\n",
       "      <td>0</td>\n",
       "      <td>0</td>\n",
       "    </tr>\n",
       "    <tr>\n",
       "      <th>1</th>\n",
       "      <td>Aeroflot*</td>\n",
       "      <td>1197672318</td>\n",
       "      <td>76</td>\n",
       "      <td>14</td>\n",
       "      <td>128</td>\n",
       "      <td>6</td>\n",
       "      <td>1</td>\n",
       "      <td>88</td>\n",
       "    </tr>\n",
       "    <tr>\n",
       "      <th>2</th>\n",
       "      <td>Aerolineas Argentinas</td>\n",
       "      <td>385803648</td>\n",
       "      <td>6</td>\n",
       "      <td>0</td>\n",
       "      <td>0</td>\n",
       "      <td>1</td>\n",
       "      <td>0</td>\n",
       "      <td>0</td>\n",
       "    </tr>\n",
       "    <tr>\n",
       "      <th>3</th>\n",
       "      <td>Aeromexico*</td>\n",
       "      <td>596871813</td>\n",
       "      <td>3</td>\n",
       "      <td>1</td>\n",
       "      <td>64</td>\n",
       "      <td>5</td>\n",
       "      <td>0</td>\n",
       "      <td>0</td>\n",
       "    </tr>\n",
       "    <tr>\n",
       "      <th>4</th>\n",
       "      <td>Air Canada</td>\n",
       "      <td>1865253802</td>\n",
       "      <td>2</td>\n",
       "      <td>0</td>\n",
       "      <td>0</td>\n",
       "      <td>2</td>\n",
       "      <td>0</td>\n",
       "      <td>0</td>\n",
       "    </tr>\n",
       "  </tbody>\n",
       "</table>\n",
       "</div>"
      ],
      "text/plain": [
       "                 airline  avail_seat_km_per_week  incidents_85_99  \\\n",
       "0             Aer Lingus               320906734                2   \n",
       "1              Aeroflot*              1197672318               76   \n",
       "2  Aerolineas Argentinas               385803648                6   \n",
       "3            Aeromexico*               596871813                3   \n",
       "4             Air Canada              1865253802                2   \n",
       "\n",
       "   fatal_accidents_85_99  fatalities_85_99  incidents_00_14  \\\n",
       "0                      0                 0                0   \n",
       "1                     14               128                6   \n",
       "2                      0                 0                1   \n",
       "3                      1                64                5   \n",
       "4                      0                 0                2   \n",
       "\n",
       "   fatal_accidents_00_14  fatalities_00_14  \n",
       "0                      0                 0  \n",
       "1                      1                88  \n",
       "2                      0                 0  \n",
       "3                      0                 0  \n",
       "4                      0                 0  "
      ]
     },
     "execution_count": 3,
     "metadata": {},
     "output_type": "execute_result"
    }
   ],
   "source": [
    "import pandas as pd\n",
    "\n",
    "A = pd.read_csv('safety.csv')\n",
    "A.head()"
   ]
  },
  {
   "cell_type": "markdown",
   "metadata": {},
   "source": [
    "### 2.1 Incidents"
   ]
  },
  {
   "cell_type": "markdown",
   "metadata": {},
   "source": [
    "Make a scatter chart of the airlines' the total number of incidents in 1985–1999 and 2000-2014."
   ]
  },
  {
   "cell_type": "code",
   "execution_count": 5,
   "metadata": {},
   "outputs": [
    {
     "data": {
      "image/png": "[encoded data removed]",
      "text/plain": [
       "<matplotlib.figure.Figure at 0x213164ac550>"
      ]
     },
     "metadata": {},
     "output_type": "display_data"
    }
   ],
   "source": [
    "import pandas as pd\n",
    "import numpy as np\n",
    "import matplotlib.pyplot as plt\n",
    "merged = pd.read_csv('safety.csv')\n",
    "merged.plot(x='fatal_accidents_85_99', y='fatal_accidents_00_14', kind='scatter', alpha=1.0, figsize=(8, 6))\n",
    "plt.ylabel('00-14')\n",
    "plt.xlabel('85-99')\n",
    "\n",
    "plt.show()"
   ]
  },
  {
   "cell_type": "markdown",
   "metadata": {},
   "source": [
    "From the plot, it appears that citations are positively correlated with total number of incidents in 85-99 and 00-14."
   ]
  },
  {
   "cell_type": "code",
   "execution_count": 36,
   "metadata": {},
   "outputs": [
    {
     "data": {
      "image/png": "[encoded data removed]",
      "text/plain": [
       "<matplotlib.figure.Figure at 0x2131b4127f0>"
      ]
     },
     "metadata": {},
     "output_type": "display_data"
    }
   ],
   "source": [
    "merged = pd.read_csv('safety.csv')\n",
    "merged.plot(x='fatal_accidents_85_99', y='fatal_accidents_00_14', kind='scatter', alpha=1.0, figsize=(8, 6))\n",
    "plt.ylabel('00-14')\n",
    "plt.xlabel('85-99')\n",
    "\n",
    "plt.plot(np.unique(merged['fatal_accidents_85_99']),\n",
    "         np.poly1d(np.polyfit(merged['fatal_accidents_85_99'], merged['fatal_accidents_00_14'], 1))(np.unique(merged['fatal_accidents_85_99'])),\n",
    "         color='black', alpha=0.6)\n",
    "\n",
    "plt.grid()\n",
    "plt.show()"
   ]
  },
  {
   "cell_type": "markdown",
   "metadata": {},
   "source": [
    "### 2.2 Fatal Accidents"
   ]
  },
  {
   "cell_type": "markdown",
   "metadata": {},
   "source": [
    "Make a scatter chart of the airlines' the total number of fatal accidents in 1985–1999 and 2000-2014."
   ]
  },
  {
   "cell_type": "code",
   "execution_count": 10,
   "metadata": {},
   "outputs": [
    {
     "data": {
      "image/png": "[encoded data removed]",
      "text/plain": [
       "<matplotlib.figure.Figure at 0x24b067c6e48>"
      ]
     },
     "metadata": {},
     "output_type": "display_data"
    }
   ],
   "source": [
    "import pandas as pd\n",
    "import numpy as np\n",
    "import matplotlib.pyplot as plt\n",
    "merged = pd.read_csv('safety.csv')\n",
    "merged.plot(x='incidents_85_99', y='incidents_00_14', kind='scatter', alpha=1.0, figsize=(8, 6))\n",
    "plt.ylabel('00-14')\n",
    "plt.xlabel('85-99')\n",
    "\n",
    "plt.show()"
   ]
  },
  {
   "cell_type": "markdown",
   "metadata": {},
   "source": [
    "From the plot, it appears that total number of fatal accident in 85-99 are positively correlated with total number of fatal accidents in 00-14."
   ]
  },
  {
   "cell_type": "code",
   "execution_count": 38,
   "metadata": {},
   "outputs": [
    {
     "data": {
      "image/png": "[encoded data removed]",
      "text/plain": [
       "<matplotlib.figure.Figure at 0x2131b48aa58>"
      ]
     },
     "metadata": {},
     "output_type": "display_data"
    }
   ],
   "source": [
    "merged = pd.read_csv('safety.csv')\n",
    "merged.plot(x='incidents_85_99', y='incidents_00_14', kind='scatter', alpha=1.0, figsize=(8, 6))\n",
    "plt.ylabel('00-14')\n",
    "plt.xlabel('85-99')\n",
    "\n",
    "plt.plot(np.unique(merged['incidents_85_99']),\n",
    "         np.poly1d(np.polyfit(merged['incidents_85_99'], merged['incidents_00_14'], 1))(np.unique(merged['incidents_85_99'])),\n",
    "         color='black', alpha=0.6)\n",
    "\n",
    "plt.grid()\n",
    "plt.show()"
   ]
  },
  {
   "cell_type": "markdown",
   "metadata": {},
   "source": [
    "### 2.3 Available seat kilometers flown every week"
   ]
  },
  {
   "cell_type": "code",
   "execution_count": 9,
   "metadata": {},
   "outputs": [
    {
     "data": {
      "image/png": "[encoded data removed]",
      "text/plain": [
       "<matplotlib.figure.Figure at 0x11ce7b23668>"
      ]
     },
     "metadata": {},
     "output_type": "display_data"
    },
    {
     "data": {
      "image/png": "[encoded data removed]",
      "text/plain": [
       "<matplotlib.figure.Figure at 0x11ce9bc2080>"
      ]
     },
     "metadata": {},
     "output_type": "display_data"
    }
   ],
   "source": [
    "import pandas as pd\n",
    "import numpy as np\n",
    "import matplotlib.pyplot as plt\n",
    "merged = pd.read_csv('safety.csv')\n",
    "merged.plot(x='avail_seat_km_per_week', y='incidents_00_14', kind='scatter',color='red',alpha=1.0, figsize=(8, 6))\n",
    "plt.ylabel('incident')\n",
    "plt.xlabel('avail_seat_km_per_week')\n",
    "merged.plot(x='avail_seat_km_per_week', y='fatal_accidents_00_14', kind='scatter',color='blue',alpha=1.0, figsize=(8, 6))\n",
    "plt.ylabel('fatal_accidents')\n",
    "plt.xlabel('avail_seat_km_per_week')\n",
    "\n",
    "plt.show()"
   ]
  },
  {
   "cell_type": "markdown",
   "metadata": {},
   "source": [
    " It can be found that the greater the number of passengers in an airline, the greater the probability that the accident will occur."
   ]
  },
  {
   "cell_type": "markdown",
   "metadata": {},
   "source": [
    "## 3.Hypothesis and Test"
   ]
  },
  {
   "cell_type": "markdown",
   "metadata": {},
   "source": [
    "### 3.1 Develop a hypothesis"
   ]
  },
  {
   "cell_type": "markdown",
   "metadata": {},
   "source": [
    "Based on previous descriptive statistics, the article assumes that：\n",
    "\n",
    "* The total number of fatal accident in 85-99 are positively correlated with total number of fatal accidents in 00-14.\n",
    "* The total number of incidents in 85-99 are positively correlated with total number of incidents in 00-14.\n",
    "\n",
    "To attempt to test thess hypothesises , we can use a **linear regression model**"
   ]
  },
  {
   "cell_type": "markdown",
   "metadata": {},
   "source": [
    "$$\n",
    "fatal_2 = \\beta_0 + \\beta_1 fatal_1  +\\beta_2 ASK+ u_t \\\\\n",
    "incident_2 = \\beta_0 + \\beta_1 incident_1 +\\beta_2 ASK+ u_t \\\\\n",
    "$$\n",
    "* $\\beta_0$ is the constant term\n",
    "* $\\beta_1$ and $\\beta_2$ is the slope term\n",
    "* $u_t$ is the error term\n",
    "* $fatal_2$ is the total number of fatal accident in 00-14；$fatal_1$ is the total number of fatal accident in 85-99\n",
    "* $incident_2$ is the total number of incidents in 00-14；$incident_1$ is the total number of incidents in 85-99"
   ]
  },
  {
   "cell_type": "markdown",
   "metadata": {},
   "source": [
    "### 3.2 Test"
   ]
  },
  {
   "cell_type": "markdown",
   "metadata": {},
   "source": [
    "#### 3.2.1 Test: Fatal accidents"
   ]
  },
  {
   "cell_type": "code",
   "execution_count": 13,
   "metadata": {
    "collapsed": true
   },
   "outputs": [],
   "source": [
    "merged['constant'] = 1"
   ]
  },
  {
   "cell_type": "code",
   "execution_count": 27,
   "metadata": {
    "collapsed": true
   },
   "outputs": [],
   "source": [
    "import statsmodels.api as sm\n",
    "\n",
    "reg = sm.OLS(endog=merged['fatal_accidents_00_14'], exog=merged[['constant', 'fatal_accidents_85_99','avail_seat_km_per_week']], missing='drop')"
   ]
  },
  {
   "cell_type": "code",
   "execution_count": 16,
   "metadata": {},
   "outputs": [
    {
     "data": {
      "text/plain": [
       "<statsmodels.regression.linear_model.RegressionResultsWrapper at 0x11ce9bfe320>"
      ]
     },
     "execution_count": 16,
     "metadata": {},
     "output_type": "execute_result"
    }
   ],
   "source": [
    "results = reg.fit()\n",
    "results"
   ]
  },
  {
   "cell_type": "markdown",
   "metadata": {},
   "source": [
    "Original Result"
   ]
  },
  {
   "cell_type": "code",
   "execution_count": 17,
   "metadata": {
    "scrolled": false
   },
   "outputs": [
    {
     "name": "stdout",
     "output_type": "stream",
     "text": [
      "                              OLS Regression Results                             \n",
      "=================================================================================\n",
      "Dep. Variable:     fatal_accidents_00_14   R-squared:                       0.275\n",
      "Model:                               OLS   Adj. R-squared:                  0.247\n",
      "Method:                    Least Squares   F-statistic:                     10.03\n",
      "Date:                   Sun, 28 Jan 2018   Prob (F-statistic):           0.000202\n",
      "Time:                           17:50:15   Log-Likelihood:                -61.434\n",
      "No. Observations:                     56   AIC:                             128.9\n",
      "Df Residuals:                         53   BIC:                             134.9\n",
      "Df Model:                              2                                         \n",
      "Covariance Type:               nonrobust                                         \n",
      "==========================================================================================\n",
      "                             coef    std err          t      P>|t|      [0.025      0.975]\n",
      "------------------------------------------------------------------------------------------\n",
      "constant                   0.2426      0.142      1.706      0.094      -0.043       0.528\n",
      "fatal_accidents_85_99      0.1241      0.040      3.123      0.003       0.044       0.204\n",
      "avail_seat_km_per_week  1.067e-10   7.76e-11      1.375      0.175    -4.9e-11    2.62e-10\n",
      "==============================================================================\n",
      "Omnibus:                        7.142   Durbin-Watson:                   1.832\n",
      "Prob(Omnibus):                  0.028   Jarque-Bera (JB):                7.374\n",
      "Skew:                           0.860   Prob(JB):                       0.0250\n",
      "Kurtosis:                       2.553   Cond. No.                     2.87e+09\n",
      "==============================================================================\n",
      "\n",
      "Warnings:\n",
      "[1] Standard Errors assume that the covariance matrix of the errors is correctly specified.\n",
      "[2] The condition number is large, 2.87e+09. This might indicate that there are\n",
      "strong multicollinearity or other numerical problems.\n"
     ]
    }
   ],
   "source": [
    "print(results.summary())"
   ]
  },
  {
   "cell_type": "markdown",
   "metadata": {},
   "source": [
    "Using robust standard errors"
   ]
  },
  {
   "cell_type": "code",
   "execution_count": 24,
   "metadata": {},
   "outputs": [
    {
     "data": {
      "image/png": "[encoded data removed]",
      "text/plain": [
       "<matplotlib.figure.Figure at 0x2131928bac8>"
      ]
     },
     "metadata": {},
     "output_type": "display_data"
    }
   ],
   "source": [
    "plt.scatter(results.predict(), results.resid)\n",
    "plt.axhline()\n",
    "plt.show()"
   ]
  },
  {
   "cell_type": "markdown",
   "metadata": {},
   "source": [
    "The above plot shows that errors are generally well distributed about 0, however variance increases with the dependent variable.\n",
    "\n",
    "This is known as heteroskedascity.\n",
    "\n",
    "When heteroskedascity is present, robust standard errors should be used\n"
   ]
  },
  {
   "cell_type": "code",
   "execution_count": 25,
   "metadata": {},
   "outputs": [
    {
     "name": "stdout",
     "output_type": "stream",
     "text": [
      "                              OLS Regression Results                             \n",
      "=================================================================================\n",
      "Dep. Variable:     fatal_accidents_00_14   R-squared:                       0.275\n",
      "Model:                               OLS   Adj. R-squared:                  0.247\n",
      "Method:                    Least Squares   F-statistic:                     10.21\n",
      "Date:                   Sun, 28 Jan 2018   Prob (F-statistic):           0.000178\n",
      "Time:                           15:33:39   Log-Likelihood:                -61.434\n",
      "No. Observations:                     56   AIC:                             128.9\n",
      "Df Residuals:                         53   BIC:                             134.9\n",
      "Df Model:                              2                                         \n",
      "Covariance Type:                     HC0                                         \n",
      "==========================================================================================\n",
      "                             coef    std err          z      P>|z|      [0.025      0.975]\n",
      "------------------------------------------------------------------------------------------\n",
      "constant                   0.2426      0.128      1.899      0.058      -0.008       0.493\n",
      "fatal_accidents_85_99      0.1241      0.046      2.698      0.007       0.034       0.214\n",
      "avail_seat_km_per_week  1.067e-10   8.35e-11      1.277      0.201    -5.7e-11     2.7e-10\n",
      "==============================================================================\n",
      "Omnibus:                        7.142   Durbin-Watson:                   1.832\n",
      "Prob(Omnibus):                  0.028   Jarque-Bera (JB):                7.374\n",
      "Skew:                           0.860   Prob(JB):                       0.0250\n",
      "Kurtosis:                       2.553   Cond. No.                     2.87e+09\n",
      "==============================================================================\n",
      "\n",
      "Warnings:\n",
      "[1] Standard Errors are heteroscedasticity robust (HC0)\n",
      "[2] The condition number is large, 2.87e+09. This might indicate that there are\n",
      "strong multicollinearity or other numerical problems.\n"
     ]
    }
   ],
   "source": [
    "results = reg.fit(cov_type='HC0')\n",
    "print(results.summary())"
   ]
  },
  {
   "cell_type": "markdown",
   "metadata": {},
   "source": [
    "##### Result\n",
    "According to the results of the test, the P value of Fatal accidents in 85-99 is 0.007, which is significant. It means that The total number of fatal accident in 85-99 are positively correlated with total number of fatal accidents in 00-14.\n",
    "\n",
    "\n",
    "\n",
    "\n",
    "\n",
    "\n"
   ]
  },
  {
   "cell_type": "markdown",
   "metadata": {},
   "source": [
    "#### 3.2.2 Test: incidents"
   ]
  },
  {
   "cell_type": "code",
   "execution_count": 10,
   "metadata": {},
   "outputs": [
    {
     "name": "stderr",
     "output_type": "stream",
     "text": [
      "D:\\Ana\\lib\\site-packages\\statsmodels\\compat\\pandas.py:56: FutureWarning: The pandas.core.datetools module is deprecated and will be removed in a future version. Please use the pandas.tseries module instead.\n",
      "  from pandas.core import datetools\n"
     ]
    }
   ],
   "source": [
    "import statsmodels.api as sm\n",
    "\n",
    "reg = sm.OLS(endog=merged['incidents_00_14'], exog=merged[['constant', 'incidents_85_99','avail_seat_km_per_week']], missing='drop')"
   ]
  },
  {
   "cell_type": "code",
   "execution_count": 11,
   "metadata": {},
   "outputs": [
    {
     "data": {
      "text/plain": [
       "<statsmodels.regression.linear_model.RegressionResultsWrapper at 0x2131648ba90>"
      ]
     },
     "execution_count": 11,
     "metadata": {},
     "output_type": "execute_result"
    }
   ],
   "source": [
    "results = reg.fit()\n",
    "results"
   ]
  },
  {
   "cell_type": "markdown",
   "metadata": {},
   "source": [
    "Original Result"
   ]
  },
  {
   "cell_type": "code",
   "execution_count": 12,
   "metadata": {},
   "outputs": [
    {
     "name": "stdout",
     "output_type": "stream",
     "text": [
      "                            OLS Regression Results                            \n",
      "==============================================================================\n",
      "Dep. Variable:        incidents_00_14   R-squared:                       0.570\n",
      "Model:                            OLS   Adj. R-squared:                  0.554\n",
      "Method:                 Least Squares   F-statistic:                     35.18\n",
      "Date:                Sun, 28 Jan 2018   Prob (F-statistic):           1.89e-10\n",
      "Time:                        15:24:53   Log-Likelihood:                -140.09\n",
      "No. Observations:                  56   AIC:                             286.2\n",
      "Df Residuals:                      53   BIC:                             292.2\n",
      "Df Model:                           2                                         \n",
      "Covariance Type:            nonrobust                                         \n",
      "==========================================================================================\n",
      "                             coef    std err          t      P>|t|      [0.025      0.975]\n",
      "------------------------------------------------------------------------------------------\n",
      "constant                   0.6263      0.584      1.072      0.288      -0.545       1.798\n",
      "incidents_85_99            0.0894      0.039      2.315      0.025       0.012       0.167\n",
      "avail_seat_km_per_week  2.063e-09   2.91e-10      7.094      0.000    1.48e-09    2.65e-09\n",
      "==============================================================================\n",
      "Omnibus:                        6.787   Durbin-Watson:                   1.796\n",
      "Prob(Omnibus):                  0.034   Jarque-Bera (JB):                5.834\n",
      "Skew:                           0.732   Prob(JB):                       0.0541\n",
      "Kurtosis:                       3.600   Cond. No.                     2.89e+09\n",
      "==============================================================================\n",
      "\n",
      "Warnings:\n",
      "[1] Standard Errors assume that the covariance matrix of the errors is correctly specified.\n",
      "[2] The condition number is large, 2.89e+09. This might indicate that there are\n",
      "strong multicollinearity or other numerical problems.\n"
     ]
    }
   ],
   "source": [
    "print(results.summary())"
   ]
  },
  {
   "cell_type": "markdown",
   "metadata": {},
   "source": [
    "Using robust standard errors"
   ]
  },
  {
   "cell_type": "code",
   "execution_count": 13,
   "metadata": {},
   "outputs": [
    {
     "data": {
      "image/png": "[encoded data removed]",
      "text/plain": [
       "<matplotlib.figure.Figure at 0x21318cdada0>"
      ]
     },
     "metadata": {},
     "output_type": "display_data"
    }
   ],
   "source": [
    "plt.scatter(results.predict(), results.resid)\n",
    "plt.axhline()\n",
    "plt.show()"
   ]
  },
  {
   "cell_type": "markdown",
   "metadata": {},
   "source": [
    "The above plot shows that errors are generally well distributed about 0, however variance increases with the dependent variable.\n",
    "\n",
    "This is known as heteroskedascity.\n",
    "\n",
    "When heteroskedascity is present, robust standard errors should be used\n"
   ]
  },
  {
   "cell_type": "code",
   "execution_count": 14,
   "metadata": {},
   "outputs": [
    {
     "name": "stdout",
     "output_type": "stream",
     "text": [
      "                            OLS Regression Results                            \n",
      "==============================================================================\n",
      "Dep. Variable:        incidents_00_14   R-squared:                       0.570\n",
      "Model:                            OLS   Adj. R-squared:                  0.554\n",
      "Method:                 Least Squares   F-statistic:                     15.47\n",
      "Date:                Sun, 28 Jan 2018   Prob (F-statistic):           5.10e-06\n",
      "Time:                        15:26:08   Log-Likelihood:                -140.09\n",
      "No. Observations:                  56   AIC:                             286.2\n",
      "Df Residuals:                      53   BIC:                             292.2\n",
      "Df Model:                           2                                         \n",
      "Covariance Type:                  HC0                                         \n",
      "==========================================================================================\n",
      "                             coef    std err          z      P>|z|      [0.025      0.975]\n",
      "------------------------------------------------------------------------------------------\n",
      "constant                   0.6263      0.600      1.044      0.297      -0.550       1.802\n",
      "incidents_85_99            0.0894      0.046      1.925      0.054      -0.002       0.180\n",
      "avail_seat_km_per_week  2.063e-09   4.21e-10      4.898      0.000    1.24e-09    2.89e-09\n",
      "==============================================================================\n",
      "Omnibus:                        6.787   Durbin-Watson:                   1.796\n",
      "Prob(Omnibus):                  0.034   Jarque-Bera (JB):                5.834\n",
      "Skew:                           0.732   Prob(JB):                       0.0541\n",
      "Kurtosis:                       3.600   Cond. No.                     2.89e+09\n",
      "==============================================================================\n",
      "\n",
      "Warnings:\n",
      "[1] Standard Errors are heteroscedasticity robust (HC0)\n",
      "[2] The condition number is large, 2.89e+09. This might indicate that there are\n",
      "strong multicollinearity or other numerical problems.\n"
     ]
    }
   ],
   "source": [
    "results = reg.fit(cov_type='HC0')\n",
    "print(results.summary())"
   ]
  },
  {
   "cell_type": "markdown",
   "metadata": {},
   "source": [
    "##### Result\n",
    "According to the results of the test, the P value of incidents in 85-99 is 0.054, which is significant. \n",
    "* It means that the total number of incidents in 85-99 are positively correlated with total number of incidents in 00-14."
   ]
  },
  {
   "cell_type": "markdown",
   "metadata": {},
   "source": [
    "## 4 Conclusions"
   ]
  },
  {
   "cell_type": "markdown",
   "metadata": {},
   "source": [
    "### 4.1 For customer\n",
    "The results of this article show that the intuition that people do not choose an airline is correct. Both in the incidents and in the fatal accidents, the airlines have the very strong self correlation.\n",
    "\n",
    "Therefore, when you are choosing an airline, it is useful to check the airline’s track record, which tells you something about its probability of future crashes.In particular, you should look toward an airline’s rate of dangerous incidents of any kind and its number of fatalities or fatal accidents.\n",
    "### 4.2 For airline\n",
    "For airlines, accidents are fatal, which not only leads to direct economic losses but also long-term customer churn. Therefore, airlines should always be vigilant and try to avoid any accidents."
   ]
  },
  {
   "cell_type": "markdown",
   "metadata": {},
   "source": [
    "## References\n",
    "* Nate Silver. Should Travelers Avoid Flying Airlines That Have Had Crashes in the Past?. https://fivethirtyeight.com/features/should-travelers-avoid-flying-airlines-that-have-had-crashes-in-the-past/\n",
    "\n",
    "\n",
    "* https://github.com/fivethirtyeight/data/\n",
    "\n",
    "\n",
    "* Natasha. intro-to-statsmodels"
   ]
  }
 ],
 "metadata": {
  "kernelspec": {
   "display_name": "Python 3",
   "language": "python",
   "name": "python3"
  },
  "language_info": {
   "codemirror_mode": {
    "name": "ipython",
    "version": 3
   },
   "file_extension": ".py",
   "mimetype": "text/x-python",
   "name": "python",
   "nbconvert_exporter": "python",
   "pygments_lexer": "ipython3",
   "version": "3.6.3"
  }
 },
 "nbformat": 4,
 "nbformat_minor": 2
}
